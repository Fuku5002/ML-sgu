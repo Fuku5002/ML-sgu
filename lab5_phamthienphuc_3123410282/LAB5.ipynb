{
  "cells": [
    {
      "cell_type": "markdown",
      "metadata": {
        "id": "Zxss9tEYyFys"
      },
      "source": [
        "# 1.1. THỐNG KÊ MÔ TẢ"
      ]
    },
    {
      "cell_type": "markdown",
      "metadata": {
        "id": "_FQPtUNFyLnu"
      },
      "source": [
        "##1.1.3. Bài tập thực hành 1\n",
        "Thực hiện thống kê mô tả trên tập dữ liệu về phân loại chất lượng rượu đỏ.\n",
        "\n",
        "Dữ liệu lấy tại https://www.kaggle.com/code/eisgandar/red-wine-quality-eda-classification"
      ]
    },
    {
      "cell_type": "code",
      "execution_count": null,
      "metadata": {
        "colab": {
          "background_save": true,
          "base_uri": "https://localhost:8080/",
          "height": 38
        },
        "id": "29c962c9",
        "outputId": "a937d8ef-530d-4a11-feea-d7a5fa47a22d"
      },
      "outputs": [
        {
          "data": {
            "text/html": [
              "\n",
              "     <input type=\"file\" id=\"files-eb0929d3-1487-4d20-a012-1e3427e956fd\" name=\"files[]\" multiple disabled\n",
              "        style=\"border:none\" />\n",
              "     <output id=\"result-eb0929d3-1487-4d20-a012-1e3427e956fd\">\n",
              "      Upload widget is only available when the cell has been executed in the\n",
              "      current browser session. Please rerun this cell to enable.\n",
              "      </output>\n",
              "      <script>// Copyright 2017 Google LLC\n",
              "//\n",
              "// Licensed under the Apache License, Version 2.0 (the \"License\");\n",
              "// you may not use this file except in compliance with the License.\n",
              "// You may obtain a copy of the License at\n",
              "//\n",
              "//      http://www.apache.org/licenses/LICENSE-2.0\n",
              "//\n",
              "// Unless required by applicable law or agreed to in writing, software\n",
              "// distributed under the License is distributed on an \"AS IS\" BASIS,\n",
              "// WITHOUT WARRANTIES OR CONDITIONS OF ANY KIND, either express or implied.\n",
              "// See the License for the specific language governing permissions and\n",
              "// limitations under the License.\n",
              "\n",
              "/**\n",
              " * @fileoverview Helpers for google.colab Python module.\n",
              " */\n",
              "(function(scope) {\n",
              "function span(text, styleAttributes = {}) {\n",
              "  const element = document.createElement('span');\n",
              "  element.textContent = text;\n",
              "  for (const key of Object.keys(styleAttributes)) {\n",
              "    element.style[key] = styleAttributes[key];\n",
              "  }\n",
              "  return element;\n",
              "}\n",
              "\n",
              "// Max number of bytes which will be uploaded at a time.\n",
              "const MAX_PAYLOAD_SIZE = 100 * 1024;\n",
              "\n",
              "function _uploadFiles(inputId, outputId) {\n",
              "  const steps = uploadFilesStep(inputId, outputId);\n",
              "  const outputElement = document.getElementById(outputId);\n",
              "  // Cache steps on the outputElement to make it available for the next call\n",
              "  // to uploadFilesContinue from Python.\n",
              "  outputElement.steps = steps;\n",
              "\n",
              "  return _uploadFilesContinue(outputId);\n",
              "}\n",
              "\n",
              "// This is roughly an async generator (not supported in the browser yet),\n",
              "// where there are multiple asynchronous steps and the Python side is going\n",
              "// to poll for completion of each step.\n",
              "// This uses a Promise to block the python side on completion of each step,\n",
              "// then passes the result of the previous step as the input to the next step.\n",
              "function _uploadFilesContinue(outputId) {\n",
              "  const outputElement = document.getElementById(outputId);\n",
              "  const steps = outputElement.steps;\n",
              "\n",
              "  const next = steps.next(outputElement.lastPromiseValue);\n",
              "  return Promise.resolve(next.value.promise).then((value) => {\n",
              "    // Cache the last promise value to make it available to the next\n",
              "    // step of the generator.\n",
              "    outputElement.lastPromiseValue = value;\n",
              "    return next.value.response;\n",
              "  });\n",
              "}\n",
              "\n",
              "/**\n",
              " * Generator function which is called between each async step of the upload\n",
              " * process.\n",
              " * @param {string} inputId Element ID of the input file picker element.\n",
              " * @param {string} outputId Element ID of the output display.\n",
              " * @return {!Iterable<!Object>} Iterable of next steps.\n",
              " */\n",
              "function* uploadFilesStep(inputId, outputId) {\n",
              "  const inputElement = document.getElementById(inputId);\n",
              "  inputElement.disabled = false;\n",
              "\n",
              "  const outputElement = document.getElementById(outputId);\n",
              "  outputElement.innerHTML = '';\n",
              "\n",
              "  const pickedPromise = new Promise((resolve) => {\n",
              "    inputElement.addEventListener('change', (e) => {\n",
              "      resolve(e.target.files);\n",
              "    });\n",
              "  });\n",
              "\n",
              "  const cancel = document.createElement('button');\n",
              "  inputElement.parentElement.appendChild(cancel);\n",
              "  cancel.textContent = 'Cancel upload';\n",
              "  const cancelPromise = new Promise((resolve) => {\n",
              "    cancel.onclick = () => {\n",
              "      resolve(null);\n",
              "    };\n",
              "  });\n",
              "\n",
              "  // Wait for the user to pick the files.\n",
              "  const files = yield {\n",
              "    promise: Promise.race([pickedPromise, cancelPromise]),\n",
              "    response: {\n",
              "      action: 'starting',\n",
              "    }\n",
              "  };\n",
              "\n",
              "  cancel.remove();\n",
              "\n",
              "  // Disable the input element since further picks are not allowed.\n",
              "  inputElement.disabled = true;\n",
              "\n",
              "  if (!files) {\n",
              "    return {\n",
              "      response: {\n",
              "        action: 'complete',\n",
              "      }\n",
              "    };\n",
              "  }\n",
              "\n",
              "  for (const file of files) {\n",
              "    const li = document.createElement('li');\n",
              "    li.append(span(file.name, {fontWeight: 'bold'}));\n",
              "    li.append(span(\n",
              "        `(${file.type || 'n/a'}) - ${file.size} bytes, ` +\n",
              "        `last modified: ${\n",
              "            file.lastModifiedDate ? file.lastModifiedDate.toLocaleDateString() :\n",
              "                                    'n/a'} - `));\n",
              "    const percent = span('0% done');\n",
              "    li.appendChild(percent);\n",
              "\n",
              "    outputElement.appendChild(li);\n",
              "\n",
              "    const fileDataPromise = new Promise((resolve) => {\n",
              "      const reader = new FileReader();\n",
              "      reader.onload = (e) => {\n",
              "        resolve(e.target.result);\n",
              "      };\n",
              "      reader.readAsArrayBuffer(file);\n",
              "    });\n",
              "    // Wait for the data to be ready.\n",
              "    let fileData = yield {\n",
              "      promise: fileDataPromise,\n",
              "      response: {\n",
              "        action: 'continue',\n",
              "      }\n",
              "    };\n",
              "\n",
              "    // Use a chunked sending to avoid message size limits. See b/62115660.\n",
              "    let position = 0;\n",
              "    do {\n",
              "      const length = Math.min(fileData.byteLength - position, MAX_PAYLOAD_SIZE);\n",
              "      const chunk = new Uint8Array(fileData, position, length);\n",
              "      position += length;\n",
              "\n",
              "      const base64 = btoa(String.fromCharCode.apply(null, chunk));\n",
              "      yield {\n",
              "        response: {\n",
              "          action: 'append',\n",
              "          file: file.name,\n",
              "          data: base64,\n",
              "        },\n",
              "      };\n",
              "\n",
              "      let percentDone = fileData.byteLength === 0 ?\n",
              "          100 :\n",
              "          Math.round((position / fileData.byteLength) * 100);\n",
              "      percent.textContent = `${percentDone}% done`;\n",
              "\n",
              "    } while (position < fileData.byteLength);\n",
              "  }\n",
              "\n",
              "  // All done.\n",
              "  yield {\n",
              "    response: {\n",
              "      action: 'complete',\n",
              "    }\n",
              "  };\n",
              "}\n",
              "\n",
              "scope.google = scope.google || {};\n",
              "scope.google.colab = scope.google.colab || {};\n",
              "scope.google.colab._files = {\n",
              "  _uploadFiles,\n",
              "  _uploadFilesContinue,\n",
              "};\n",
              "})(self);\n",
              "</script> "
            ],
            "text/plain": [
              "<IPython.core.display.HTML object>"
            ]
          },
          "metadata": {},
          "output_type": "display_data"
        }
      ],
      "source": [
        "import pandas as pd\n",
        "import numpy as np\n",
        "from scipy import stats\n",
        "from google.colab import files\n",
        "\n",
        "# Upload file\n",
        "uploaded = files.upload()\n",
        "\n",
        "# Đọc file CSV\n",
        "df = pd.read_csv(\"winequality-red.csv\")\n",
        "\n",
        "# Chọn các cột cần xem(các dataset ảnh hưởng mạnh đến chất lượng rượu)\n",
        "cols = ['alcohol', 'volatile acidity', 'sulphates', 'citric acid']\n",
        "\n",
        "# In 10 dòng đầu\n",
        "print(df[cols].head(10))"
      ]
    },
    {
      "cell_type": "code",
      "execution_count": null,
      "metadata": {
        "colab": {
          "background_save": true
        },
        "id": "dHtUG9FhvfT1"
      },
      "outputs": [],
      "source": []
    },
    {
      "cell_type": "markdown",
      "metadata": {
        "id": "f98c0d28"
      },
      "source": [
        "####1. Import thư viện và nạp dữ liệu vào notebook"
      ]
    },
    {
      "cell_type": "markdown",
      "metadata": {
        "id": "e0335fa2"
      },
      "source": [
        "####2. Thông tin sơ bộ dữ liệu"
      ]
    },
    {
      "cell_type": "code",
      "execution_count": null,
      "metadata": {
        "colab": {
          "background_save": true
        },
        "id": "5f2c64f5"
      },
      "outputs": [],
      "source": [
        "# In kiểu dữ liệu các cột\n",
        "print(\"\\nKiểu dữ liệu của các cột:\")\n",
        "print(df[cols].dtypes)\n",
        "\n",
        "# In số hàng và số cột của DataFrame\n",
        "print(\"\\nKích thước của DataFrame (số hàng, số cột):\")\n",
        "print(df.shape)"
      ]
    },
    {
      "cell_type": "markdown",
      "metadata": {
        "id": "a4aa6e72"
      },
      "source": [
        "####3. Loại bỏ dữ liệu trùng lặp"
      ]
    },
    {
      "cell_type": "code",
      "execution_count": null,
      "metadata": {
        "colab": {
          "background_save": true
        },
        "id": "5bb6fad6"
      },
      "outputs": [],
      "source": [
        "# Kiểm tra số dòng trùng lặp\n",
        "print(\"Số dòng trùng lặp:\", df.duplicated().sum())\n",
        "\n",
        "# Nếu có thì loại bỏ\n",
        "df = df.drop_duplicates()\n",
        "\n",
        "# Kiểm tra lại sau khi loại bỏ\n",
        "print(\"Số dòng trùng lặp sau khi xử lý:\", df.duplicated().sum())\n",
        "print(\"Kích thước dataset sau khi xử lý:\", df.shape)"
      ]
    },
    {
      "cell_type": "markdown",
      "metadata": {
        "id": "3924f531"
      },
      "source": [
        "####4. Thay thế dữ liệu và thay đổi định dạng của dữ liệu"
      ]
    },
    {
      "cell_type": "code",
      "execution_count": null,
      "metadata": {
        "colab": {
          "background_save": true
        },
        "id": "f2257c98"
      },
      "outputs": [],
      "source": [
        "# --- Kiểm tra kiểu dữ liệu ---\n",
        "print(\"\\nKiểu dữ liệu ban đầu:\")\n",
        "print(df.dtypes)\n",
        "\n",
        "# Ví dụ: nếu muốn chuyển cột 'quality' từ float -> int\n",
        "if df['quality'].dtype == 'float64':\n",
        "    df['quality'] = df['quality'].astype(int)\n",
        "    print(\"\\nĐã chuyển cột 'quality' từ float → int\")\n",
        "\n",
        "# Nếu không có cột nào cần chuyển đổi\n",
        "else:\n",
        "    print(\"\\nDataset này không cần thay thế/đổi định dạng dữ liệu.\")\n"
      ]
    },
    {
      "cell_type": "markdown",
      "metadata": {
        "id": "00841ff6"
      },
      "source": [
        "####5. Xử lý dữ liệu thiếu"
      ]
    },
    {
      "cell_type": "code",
      "execution_count": null,
      "metadata": {
        "colab": {
          "background_save": true
        },
        "id": "2a86da4e"
      },
      "outputs": [],
      "source": [
        "# --- Kiểm tra dữ liệu thiếu ---\n",
        "print(\"\\nSố giá trị thiếu ở mỗi cột:\")\n",
        "print(df.isnull().sum())\n",
        "#Dataset này không có dữ liệu thiếu."
      ]
    },
    {
      "cell_type": "markdown",
      "metadata": {
        "id": "aab3e235"
      },
      "source": [
        "####6. Thống kê mô tả dữ liệu (Descriptive Statistics)"
      ]
    },
    {
      "cell_type": "code",
      "execution_count": null,
      "metadata": {
        "colab": {
          "background_save": true
        },
        "id": "fd44e760"
      },
      "outputs": [],
      "source": [
        "for col in cols:\n",
        "    print(f\"\\n===== {col.upper()} =====\")\n",
        "    data = df[col]\n",
        "\n",
        "    data_mean = np.mean(data)\n",
        "    data_median = np.median(data)\n",
        "    data_mode = stats.mode(data, keepdims=True)\n",
        "    data_variance = np.var(data)\n",
        "    data_sd = np.std(data)\n",
        "    data_max = np.max(data)\n",
        "    data_min = np.min(data)\n",
        "    data_quartile = np.quantile(data, [0.25, 0.5, 0.75])\n",
        "    data_IQR = stats.iqr(data)\n",
        "\n",
        "    print(\"Mean:\", round(data_mean, 3))\n",
        "    print(\"Median:\", round(data_median, 3))\n",
        "    print(\"Mode:\", data_mode.mode[0])\n",
        "    print(\"Variance:\", round(data_variance, 3))\n",
        "    print(\"Std Dev:\", round(data_sd, 3))\n",
        "    print(\"Max:\", data_max)\n",
        "    print(\"Min:\", data_min)\n",
        "    print(\"Quartiles (Q1, Q2, Q3):\", data_quartile)\n",
        "    print(\"IQR:\", round(data_IQR, 3))"
      ]
    },
    {
      "cell_type": "markdown",
      "metadata": {
        "id": "4221354e"
      },
      "source": [
        "####7. Nhận xét\n",
        "---\n",
        "**Alcohol**\n",
        "Mean = 10.43, Median = 10.2, Mode = 9.5 → khá gần nhau → dữ liệu phân bố tương đối cân đối, không quá lệch.=>Cho thấy nồng độ cồn của các mẫu rượu đỏ khá đồng đều, dao động quanh 10.2–10.43%.\n",
        "IQR = 1.6 → mức độ phân tán trung bình.=>Cho thấy mức độ phân tán trung bình, nhưng giá trị tối đa (14.9) cao hơn nhiều so với trung bình, chỉ ra sự tồn tại của một số mẫu rượu có nồng độ cồn cao bất thường (outliers).\n",
        "Max = 14.9, Min = 8.4 → có một số giá trị cao hơn hẳn trung bình (rượu nồng độ cồn cao), có thể coi là outliers phía phải.\n",
        "Ảnh hưởng đến chất lượng: Nồng độ cồn cao thường liên quan đến rượu chất lượng cao hơn, vì nó góp phần tạo độ đậm đà và hương vị phong phú. Các outliers với nồng độ cồn cao có thể là những loại rượu đặc biệt, cao cấp.\n",
        "\n",
        "**Volatile Acidity**\n",
        "Mean = 0.529, Median = 0.52, Mode = 0.5 → khá gần nhau → dữ liệu gần đối xứng.\n",
        "IQR = 0.25, biến thiên vừa phải.=>Cho thấy có outliers lệch phải, tức là một số mẫu rượu có độ axit dễ bay hơi cao bất thường.\n",
        "Max = 1.58 cao hơn hẳn so với Q3 = 0.64 → xuất hiện outliers lệch phải.\n",
        "Ảnh hưởng đến chất lượng: Độ axit dễ bay hơi cao thường làm giảm chất lượng rượu, vì nó tạo ra mùi vị khó chịu (giống mùi giấm). Các mẫu có outliers này có thể bị đánh giá chất lượng thấp hơn.\n",
        "\n",
        "**Sulphates**\n",
        "Mean = 0.659, Median = 0.62, Mode = 0.54 → Mean > Median → phân bố hơi lệch phải nhẹ.=>Cho thấy hầu hết các mẫu có hàm lượng sunfat tập trung gần giá trị trung tâm (0.54–0.659).\n",
        "IQR = 0.18 → độ phân tán nhỏ, đa số tập trung quanh trung tâm.=>Cho thấy một số mẫu có hàm lượng sunfat cao bất thường.\n",
        "Max = 2.0 khá cao → có outliers phía phải.\n",
        "Ảnh hưởng đến chất lượng: Sunfat đóng vai trò như chất bảo quản và tăng cường hương vị. Hàm lượng sunfat vừa phải thường cải thiện chất lượng rượu, nhưng hàm lượng quá cao (outliers) có thể gây ảnh hưởng tiêu cực đến hương vị.\n",
        "\n",
        "**Citric Acid**\n",
        "Mean = 0.272, Median = 0.26, Mode = 0.0 → có nhiều giá trị 0.0 → phân bố lệch trái, nhưng cũng có giá trị cao tới 1.0 → có outliers phía phải.\n",
        "IQR = 0.34 → độ phân tán cao hơn so với sulphates.=>Tức là hàm lượng axit citric giữa các mẫu rượu có sự biến động đáng kể.\n",
        "Ảnh hưởng đến chất lượng: Axit citric góp phần tạo độ tươi mới và cân bằng hương vị. Hàm lượng thấp (gần 0) có thể làm rượu thiếu sức sống, trong khi hàm lượng cao (outliers) có thể làm rượu chua quá mức, ảnh hưởng tiêu cực đến chất lượng.\n",
        "---\n"
      ]
    },
    {
      "cell_type": "markdown",
      "metadata": {
        "id": "8a41c0cb"
      },
      "source": [
        "##1.1.4. Bài tập thực hành 2\n",
        "Thực hiện thống kê mô tả trên tập dữ liệu về bệnh tiểu đường. Dữ liệu lấy tại\n",
        "\n",
        "https://www.kaggle.com/code/vincentlugat/pima-indians-diabetes-eda-prediction-0-906"
      ]
    },
    {
      "cell_type": "markdown",
      "metadata": {
        "id": "21IJinYByYOL"
      },
      "source": [
        "####1. Import thư viện và nạp dữ liệu vào notebook"
      ]
    },
    {
      "cell_type": "code",
      "execution_count": null,
      "metadata": {
        "colab": {
          "background_save": true
        },
        "id": "4f1XF1-P12lc"
      },
      "outputs": [],
      "source": [
        "import pandas as pd\n",
        "import numpy as np\n",
        "from scipy import stats\n",
        "from google.colab import files\n",
        "\n",
        "# Upload file\n",
        "uploaded = files.upload()\n",
        "\n",
        "# Đọc file CSV\n",
        "df = pd.read_csv(\"diabetes.csv\")\n",
        "\n",
        "# Chọn các cột có ảnh hưởng mạnh đến Outcome\n",
        "cols = ['Glucose', 'BMI', 'Age', 'DiabetesPedigreeFunction', 'Pregnancies']\n",
        "\n",
        "# In 10 dòng đầu\n",
        "print(df[cols].head(10))"
      ]
    },
    {
      "cell_type": "markdown",
      "metadata": {
        "id": "68anSqdd2nFj"
      },
      "source": [
        "####2. Thông tin sơ bộ dữ liệu"
      ]
    },
    {
      "cell_type": "code",
      "execution_count": null,
      "metadata": {
        "colab": {
          "background_save": true
        },
        "id": "0vj2KNLE3SPT"
      },
      "outputs": [],
      "source": [
        "# In kiểu dữ liệu các cột\n",
        "print(\"\\nKiểu dữ liệu của các cột:\")\n",
        "print(df[cols].dtypes)\n",
        "\n",
        "# In số hàng và số cột của DataFrame\n",
        "print(\"\\nKích thước của DataFrame (số hàng, số cột):\")\n",
        "print(df.shape)"
      ]
    },
    {
      "cell_type": "markdown",
      "metadata": {
        "id": "YnHGyzeo3TIT"
      },
      "source": [
        "####3. Loại bỏ dữ liệu trùng lặp"
      ]
    },
    {
      "cell_type": "code",
      "execution_count": null,
      "metadata": {
        "colab": {
          "background_save": true
        },
        "id": "SJ0q2W_g3m2r"
      },
      "outputs": [],
      "source": [
        "# Kiểm tra số dòng trùng lặp\n",
        "print(\"Số dòng trùng lặp:\", df.duplicated().sum())\n",
        "\n",
        "# Nếu có thì loại bỏ\n",
        "df = df.drop_duplicates()\n",
        "\n",
        "# Kiểm tra lại sau khi loại bỏ\n",
        "print(\"Số dòng trùng lặp sau khi xử lý:\", df.duplicated().sum())\n",
        "print(\"Kích thước dataset sau khi xử lý:\", df.shape)"
      ]
    },
    {
      "cell_type": "markdown",
      "metadata": {
        "id": "dZR_iAd83nc6"
      },
      "source": [
        "####4. Thay thế dữ liệu và thay đổi định dạng của dữ liệu"
      ]
    },
    {
      "cell_type": "code",
      "execution_count": null,
      "metadata": {
        "colab": {
          "background_save": true
        },
        "id": "nUiOE_nP47lS"
      },
      "outputs": [],
      "source": [
        "# --- Kiểm tra kiểu dữ liệu ---\n",
        "print(\"\\nKiểu dữ liệu ban đầu:\")\n",
        "print(df.dtypes)\n",
        "\n",
        "# Thay thế các giá trị 0 bất hợp lý thành NaN\n",
        "cols_with_zero = ['Glucose','BMI']\n",
        "df[cols_with_zero] = df[cols_with_zero].replace(0, np.nan)"
      ]
    },
    {
      "cell_type": "markdown",
      "metadata": {
        "id": "VpePliXm4-Eb"
      },
      "source": [
        "####5. Xử lý dữ liệu thiếu"
      ]
    },
    {
      "cell_type": "code",
      "execution_count": null,
      "metadata": {
        "colab": {
          "background_save": true
        },
        "id": "xN_xDK9o5KL6"
      },
      "outputs": [],
      "source": [
        "# --- Kiểm tra dữ liệu thiếu ---\n",
        "print(\"\\nSố giá trị thiếu ở mỗi cột:\")\n",
        "print(df.isnull().sum())\n",
        "#Dataset này không có dữ liệu thiếu."
      ]
    },
    {
      "cell_type": "markdown",
      "metadata": {
        "id": "E7vBIYZ85Kkx"
      },
      "source": [
        "####6. Thống kê mô tả dữ liệu (Descriptive Statistics)"
      ]
    },
    {
      "cell_type": "code",
      "execution_count": null,
      "metadata": {
        "colab": {
          "background_save": true
        },
        "id": "aSLEvRaw5Rpr"
      },
      "outputs": [],
      "source": [
        "for col in cols:\n",
        "    print(f\"\\n===== {col.upper()} =====\")\n",
        "    data = df[col]\n",
        "    data = df[col].dropna()  # loại bỏ giá trị NaN trước khi tính toán\n",
        "\n",
        "    data_mean = np.mean(data)\n",
        "    data_median = np.median(data)\n",
        "    data_mode = stats.mode(data, keepdims=True).mode[0]  # Lấy giá trị mode\n",
        "    data_variance = np.var(data, ddof=1)  # dùng ddof=1 để tính phương sai mẫu\n",
        "    data_sd = np.std(data, ddof=1)       # độ lệch chuẩn mẫu\n",
        "    data_max = np.max(data)\n",
        "    data_min = np.min(data)\n",
        "    data_quartile = np.quantile(data, [0.25, 0.5, 0.75])\n",
        "    data_IQR = stats.iqr(data)\n",
        "\n",
        "    print(\"Mean:\", round(data_mean, 3))\n",
        "    print(\"Median:\", round(data_median, 3))\n",
        "    print(\"Mode:\", data_mode)\n",
        "    print(\"Variance:\", round(data_variance, 3))\n",
        "    print(\"Std Dev:\", round(data_sd, 3))\n",
        "    print(\"Max:\", data_max)\n",
        "    print(\"Min:\", data_min)\n",
        "    print(\"Quartiles (Q1, Q2, Q3):\", np.round(data_quartile, 3))\n",
        "    print(\"IQR:\", round(data_IQR, 3))"
      ]
    },
    {
      "cell_type": "markdown",
      "metadata": {
        "id": "9Gr1z6v95R2E"
      },
      "source": [
        "#### 7. Nhận xét\n",
        "---\n",
        "**Glucose**  \n",
        "Mean = 121.7, Median = 117.0, Mode = 99.0 → Mean > Median > Mode → dữ liệu phân bố hơi lệch phải.  \n",
        "IQR = 42.0 → mức độ phân tán cao.  \n",
        "Max = 199.0, Min = 44.0 → có một số giá trị cao hơn hẳn Q3 = 141.0, có thể coi là outliers phía phải.  \n",
        "**Ảnh hưởng đến bệnh tiểu đường**: Glucose cao thường liên quan đến nguy cơ mắc tiểu đường cao hơn, đặc biệt các outliers có thể chỉ ra các trường hợp nghiêm trọng.\n",
        "\n",
        "**BMI**  \n",
        "Mean = 32.5, Median = 32.3, Mode = 32.0 → khá gần nhau → dữ liệu gần đối xứng.  \n",
        "IQR = 9.1 → mức độ phân tán trung bình.  \n",
        "Max = 67.1, Min = 18.2 → giá trị tối đa cao hơn hẳn Q3 = 36.6 → xuất hiện outliers lệch phải.  \n",
        "**Ảnh hưởng đến bệnh tiểu đường**: BMI cao thường làm tăng nguy cơ tiểu đường do thừa cân/béo phì. Các outliers có thể đại diện cho các trường hợp béo phì nghiêm trọng.\n",
        "\n",
        "**Age**  \n",
        "Mean = 33.2, Median = 29.0, Mode = 22 → Mean > Median > Mode → phân bố lệch phải.  \n",
        "IQR = 17.0 → mức độ phân tán cao.  \n",
        "Max = 81, Min = 21 → giá trị tối đa cao hơn hẳn Q3 = 41.0 → có outliers phía phải.  \n",
        "**Ảnh hưởng đến bệnh tiểu đường**: Tuổi cao thường làm tăng nguy cơ mắc tiểu đường do lão hóa. Các outliers có thể đại diện cho các trường hợp lớn tuổi có nguy cơ cao.\n",
        "\n",
        "**DiabetesPedigreeFunction**  \n",
        "Mean = 0.472, Median = 0.372, Mode = 0.254 → Mean > Median > Mode → phân bố lệch phải.  \n",
        "IQR = 0.382 → mức độ phân tán trung bình.  \n",
        "Max = 2.42, Min = 0.078 → giá trị tối đa cao hơn hẳn Q3 = 0.626 → có outliers phía phải.  \n",
        "**Ảnh hưởng đến bệnh tiểu đường**: Giá trị cao chỉ ra tiền sử gia đình mắc tiểu đường, làm tăng nguy cơ. Các outliers có thể đại diện cho các trường hợp có yếu tố di truyền mạnh.\n",
        "\n",
        "**Pregnancies**  \n",
        "Mean = 3.8, Median = 3.0, Mode = 1 → Mean > Median > Mode → phân bố lệch phải.  \n",
        "IQR = 5.0 → mức độ phân tán trung bình.  \n",
        "Max = 17, Min = 0 → giá trị tối đa cao hơn hẳn Q3 = 6.0 → có outliers phía phải.  \n",
        "**Ảnh hưởng đến bệnh tiểu đường**: Số lần mang thai cao có thể làm tăng nguy cơ tiểu đường ở phụ nữ. Các outliers có thể đại diện cho các trường hợp mang thai nhiều lần bất thường.\n",
        "---"
      ]
    },
    {
      "cell_type": "markdown",
      "metadata": {
        "id": "_u40Evm8sYMO"
      },
      "source": [
        "#1.2. XỬ LÝ VÀ TRỰC QUAN HÓA DỮ LIỆU"
      ]
    },
    {
      "cell_type": "markdown",
      "metadata": {
        "id": "TYdHrQoesfmH"
      },
      "source": [
        "##1.2.2. Bài tập thực hành 1\n",
        "Thực hiện trực quan hóa dữ liệu trên tập dữ liệu về phân loại chất lượng rượu đỏ. Dữ liệu lấy tại\n",
        "https://www.kaggle.com/code/eisgandar/red-wine-quality-eda-classification"
      ]
    },
    {
      "cell_type": "markdown",
      "metadata": {
        "id": "nYKQMyqSs8Qv"
      },
      "source": [
        "##1. Import thư viện và nạp dữ liệu"
      ]
    },
    {
      "cell_type": "code",
      "execution_count": null,
      "metadata": {
        "id": "RpbLUZ6utJ_Z",
        "colab": {
          "base_uri": "https://localhost:8080/",
          "height": 685
        },
        "outputId": "dd84f54d-3084-45a3-bafb-4b5188b8f867"
      },
      "outputs": [
        {
          "output_type": "stream",
          "name": "stdout",
          "text": [
            "<class 'pandas.core.frame.DataFrame'>\n",
            "RangeIndex: 1599 entries, 0 to 1598\n",
            "Data columns (total 12 columns):\n",
            " #   Column                Non-Null Count  Dtype  \n",
            "---  ------                --------------  -----  \n",
            " 0   fixed acidity         1599 non-null   float64\n",
            " 1   volatile acidity      1599 non-null   float64\n",
            " 2   citric acid           1599 non-null   float64\n",
            " 3   residual sugar        1599 non-null   float64\n",
            " 4   chlorides             1599 non-null   float64\n",
            " 5   free sulfur dioxide   1599 non-null   float64\n",
            " 6   total sulfur dioxide  1599 non-null   float64\n",
            " 7   density               1599 non-null   float64\n",
            " 8   pH                    1599 non-null   float64\n",
            " 9   sulphates             1599 non-null   float64\n",
            " 10  alcohol               1599 non-null   float64\n",
            " 11  quality               1599 non-null   int64  \n",
            "dtypes: float64(11), int64(1)\n",
            "memory usage: 150.0 KB\n"
          ]
        },
        {
          "output_type": "execute_result",
          "data": {
            "text/plain": [
              "       fixed acidity  volatile acidity  citric acid  residual sugar  \\\n",
              "count   1599.000000      1599.000000    1599.000000    1599.000000    \n",
              "mean       8.319637         0.527821       0.270976       2.538806    \n",
              "std        1.741096         0.179060       0.194801       1.409928    \n",
              "min        4.600000         0.120000       0.000000       0.900000    \n",
              "25%        7.100000         0.390000       0.090000       1.900000    \n",
              "50%        7.900000         0.520000       0.260000       2.200000    \n",
              "75%        9.200000         0.640000       0.420000       2.600000    \n",
              "max       15.900000         1.580000       1.000000      15.500000    \n",
              "\n",
              "        chlorides   free sulfur dioxide  total sulfur dioxide    density    \\\n",
              "count  1599.000000      1599.000000           1599.000000      1599.000000   \n",
              "mean      0.087467        15.874922             46.467792         0.996747   \n",
              "std       0.047065        10.460157             32.895324         0.001887   \n",
              "min       0.012000         1.000000              6.000000         0.990070   \n",
              "25%       0.070000         7.000000             22.000000         0.995600   \n",
              "50%       0.079000        14.000000             38.000000         0.996750   \n",
              "75%       0.090000        21.000000             62.000000         0.997835   \n",
              "max       0.611000        72.000000            289.000000         1.003690   \n",
              "\n",
              "           pH        sulphates     alcohol      quality    \n",
              "count  1599.000000  1599.000000  1599.000000  1599.000000  \n",
              "mean      3.311113     0.658149    10.422983     5.636023  \n",
              "std       0.154386     0.169507     1.065668     0.807569  \n",
              "min       2.740000     0.330000     8.400000     3.000000  \n",
              "25%       3.210000     0.550000     9.500000     5.000000  \n",
              "50%       3.310000     0.620000    10.200000     6.000000  \n",
              "75%       3.400000     0.730000    11.100000     6.000000  \n",
              "max       4.010000     2.000000    14.900000     8.000000  "
            ],
            "text/html": [
              "\n",
              "  <div id=\"df-11102636-de5e-4ede-96f1-cbe3cf0dcb55\" class=\"colab-df-container\">\n",
              "    <div>\n",
              "<style scoped>\n",
              "    .dataframe tbody tr th:only-of-type {\n",
              "        vertical-align: middle;\n",
              "    }\n",
              "\n",
              "    .dataframe tbody tr th {\n",
              "        vertical-align: top;\n",
              "    }\n",
              "\n",
              "    .dataframe thead th {\n",
              "        text-align: right;\n",
              "    }\n",
              "</style>\n",
              "<table border=\"1\" class=\"dataframe\">\n",
              "  <thead>\n",
              "    <tr style=\"text-align: center;\">\n",
              "      <th></th>\n",
              "      <th>fixed acidity</th>\n",
              "      <th>volatile acidity</th>\n",
              "      <th>citric acid</th>\n",
              "      <th>residual sugar</th>\n",
              "      <th>chlorides</th>\n",
              "      <th>free sulfur dioxide</th>\n",
              "      <th>total sulfur dioxide</th>\n",
              "      <th>density</th>\n",
              "      <th>pH</th>\n",
              "      <th>sulphates</th>\n",
              "      <th>alcohol</th>\n",
              "      <th>quality</th>\n",
              "    </tr>\n",
              "  </thead>\n",
              "  <tbody>\n",
              "    <tr>\n",
              "      <th>count</th>\n",
              "      <td>1599.000000</td>\n",
              "      <td>1599.000000</td>\n",
              "      <td>1599.000000</td>\n",
              "      <td>1599.000000</td>\n",
              "      <td>1599.000000</td>\n",
              "      <td>1599.000000</td>\n",
              "      <td>1599.000000</td>\n",
              "      <td>1599.000000</td>\n",
              "      <td>1599.000000</td>\n",
              "      <td>1599.000000</td>\n",
              "      <td>1599.000000</td>\n",
              "      <td>1599.000000</td>\n",
              "    </tr>\n",
              "    <tr>\n",
              "      <th>mean</th>\n",
              "      <td>8.319637</td>\n",
              "      <td>0.527821</td>\n",
              "      <td>0.270976</td>\n",
              "      <td>2.538806</td>\n",
              "      <td>0.087467</td>\n",
              "      <td>15.874922</td>\n",
              "      <td>46.467792</td>\n",
              "      <td>0.996747</td>\n",
              "      <td>3.311113</td>\n",
              "      <td>0.658149</td>\n",
              "      <td>10.422983</td>\n",
              "      <td>5.636023</td>\n",
              "    </tr>\n",
              "    <tr>\n",
              "      <th>std</th>\n",
              "      <td>1.741096</td>\n",
              "      <td>0.179060</td>\n",
              "      <td>0.194801</td>\n",
              "      <td>1.409928</td>\n",
              "      <td>0.047065</td>\n",
              "      <td>10.460157</td>\n",
              "      <td>32.895324</td>\n",
              "      <td>0.001887</td>\n",
              "      <td>0.154386</td>\n",
              "      <td>0.169507</td>\n",
              "      <td>1.065668</td>\n",
              "      <td>0.807569</td>\n",
              "    </tr>\n",
              "    <tr>\n",
              "      <th>min</th>\n",
              "      <td>4.600000</td>\n",
              "      <td>0.120000</td>\n",
              "      <td>0.000000</td>\n",
              "      <td>0.900000</td>\n",
              "      <td>0.012000</td>\n",
              "      <td>1.000000</td>\n",
              "      <td>6.000000</td>\n",
              "      <td>0.990070</td>\n",
              "      <td>2.740000</td>\n",
              "      <td>0.330000</td>\n",
              "      <td>8.400000</td>\n",
              "      <td>3.000000</td>\n",
              "    </tr>\n",
              "    <tr>\n",
              "      <th>25%</th>\n",
              "      <td>7.100000</td>\n",
              "      <td>0.390000</td>\n",
              "      <td>0.090000</td>\n",
              "      <td>1.900000</td>\n",
              "      <td>0.070000</td>\n",
              "      <td>7.000000</td>\n",
              "      <td>22.000000</td>\n",
              "      <td>0.995600</td>\n",
              "      <td>3.210000</td>\n",
              "      <td>0.550000</td>\n",
              "      <td>9.500000</td>\n",
              "      <td>5.000000</td>\n",
              "    </tr>\n",
              "    <tr>\n",
              "      <th>50%</th>\n",
              "      <td>7.900000</td>\n",
              "      <td>0.520000</td>\n",
              "      <td>0.260000</td>\n",
              "      <td>2.200000</td>\n",
              "      <td>0.079000</td>\n",
              "      <td>14.000000</td>\n",
              "      <td>38.000000</td>\n",
              "      <td>0.996750</td>\n",
              "      <td>3.310000</td>\n",
              "      <td>0.620000</td>\n",
              "      <td>10.200000</td>\n",
              "      <td>6.000000</td>\n",
              "    </tr>\n",
              "    <tr>\n",
              "      <th>75%</th>\n",
              "      <td>9.200000</td>\n",
              "      <td>0.640000</td>\n",
              "      <td>0.420000</td>\n",
              "      <td>2.600000</td>\n",
              "      <td>0.090000</td>\n",
              "      <td>21.000000</td>\n",
              "      <td>62.000000</td>\n",
              "      <td>0.997835</td>\n",
              "      <td>3.400000</td>\n",
              "      <td>0.730000</td>\n",
              "      <td>11.100000</td>\n",
              "      <td>6.000000</td>\n",
              "    </tr>\n",
              "    <tr>\n",
              "      <th>max</th>\n",
              "      <td>15.900000</td>\n",
              "      <td>1.580000</td>\n",
              "      <td>1.000000</td>\n",
              "      <td>15.500000</td>\n",
              "      <td>0.611000</td>\n",
              "      <td>72.000000</td>\n",
              "      <td>289.000000</td>\n",
              "      <td>1.003690</td>\n",
              "      <td>4.010000</td>\n",
              "      <td>2.000000</td>\n",
              "      <td>14.900000</td>\n",
              "      <td>8.000000</td>\n",
              "    </tr>\n",
              "  </tbody>\n",
              "</table>\n",
              "</div>\n",
              "    <div class=\"colab-df-buttons\">\n",
              "\n",
              "  <div class=\"colab-df-container\">\n",
              "    <button class=\"colab-df-convert\" onclick=\"convertToInteractive('df-11102636-de5e-4ede-96f1-cbe3cf0dcb55')\"\n",
              "            title=\"Convert this dataframe to an interactive table.\"\n",
              "            style=\"display:none;\">\n",
              "\n",
              "  <svg xmlns=\"http://www.w3.org/2000/svg\" height=\"24px\" viewBox=\"0 -960 960 960\">\n",
              "    <path d=\"M120-120v-720h720v720H120Zm60-500h600v-160H180v160Zm220 220h160v-160H400v160Zm0 220h160v-160H400v160ZM180-400h160v-160H180v160Zm440 0h160v-160H620v160ZM180-180h160v-160H180v160Zm440 0h160v-160H620v160Z\"/>\n",
              "  </svg>\n",
              "    </button>\n",
              "\n",
              "  <style>\n",
              "    .colab-df-container {\n",
              "      display:flex;\n",
              "      gap: 12px;\n",
              "    }\n",
              "\n",
              "    .colab-df-convert {\n",
              "      background-color: #E8F0FE;\n",
              "      border: none;\n",
              "      border-radius: 50%;\n",
              "      cursor: pointer;\n",
              "      display: none;\n",
              "      fill: #1967D2;\n",
              "      height: 32px;\n",
              "      padding: 0 0 0 0;\n",
              "      width: 32px;\n",
              "    }\n",
              "\n",
              "    .colab-df-convert:hover {\n",
              "      background-color: #E2EBFA;\n",
              "      box-shadow: 0px 1px 2px rgba(60, 64, 67, 0.3), 0px 1px 3px 1px rgba(60, 64, 67, 0.15);\n",
              "      fill: #174EA6;\n",
              "    }\n",
              "\n",
              "    .colab-df-buttons div {\n",
              "      margin-bottom: 4px;\n",
              "    }\n",
              "\n",
              "    [theme=dark] .colab-df-convert {\n",
              "      background-color: #3B4455;\n",
              "      fill: #D2E3FC;\n",
              "    }\n",
              "\n",
              "    [theme=dark] .colab-df-convert:hover {\n",
              "      background-color: #434B5C;\n",
              "      box-shadow: 0px 1px 3px 1px rgba(0, 0, 0, 0.15);\n",
              "      filter: drop-shadow(0px 1px 2px rgba(0, 0, 0, 0.3));\n",
              "      fill: #FFFFFF;\n",
              "    }\n",
              "  </style>\n",
              "\n",
              "    <script>\n",
              "      const buttonEl =\n",
              "        document.querySelector('#df-11102636-de5e-4ede-96f1-cbe3cf0dcb55 button.colab-df-convert');\n",
              "      buttonEl.style.display =\n",
              "        google.colab.kernel.accessAllowed ? 'block' : 'none';\n",
              "\n",
              "      async function convertToInteractive(key) {\n",
              "        const element = document.querySelector('#df-11102636-de5e-4ede-96f1-cbe3cf0dcb55');\n",
              "        const dataTable =\n",
              "          await google.colab.kernel.invokeFunction('convertToInteractive',\n",
              "                                                    [key], {});\n",
              "        if (!dataTable) return;\n",
              "\n",
              "        const docLinkHtml = 'Like what you see? Visit the ' +\n",
              "          '<a target=\"_blank\" href=https://colab.research.google.com/notebooks/data_table.ipynb>data table notebook</a>'\n",
              "          + ' to learn more about interactive tables.';\n",
              "        element.innerHTML = '';\n",
              "        dataTable['output_type'] = 'display_data';\n",
              "        await google.colab.output.renderOutput(dataTable, element);\n",
              "        const docLink = document.createElement('div');\n",
              "        docLink.innerHTML = docLinkHtml;\n",
              "        element.appendChild(docLink);\n",
              "      }\n",
              "    </script>\n",
              "  </div>\n",
              "\n",
              "\n",
              "    <div id=\"df-5bfdfa6a-80f6-418f-b95b-8e5f09abea75\">\n",
              "      <button class=\"colab-df-quickchart\" onclick=\"quickchart('df-5bfdfa6a-80f6-418f-b95b-8e5f09abea75')\"\n",
              "                title=\"Suggest charts\"\n",
              "                style=\"display:none;\">\n",
              "\n",
              "<svg xmlns=\"http://www.w3.org/2000/svg\" height=\"24px\"viewBox=\"0 0 24 24\"\n",
              "     width=\"24px\">\n",
              "    <g>\n",
              "        <path d=\"M19 3H5c-1.1 0-2 .9-2 2v14c0 1.1.9 2 2 2h14c1.1 0 2-.9 2-2V5c0-1.1-.9-2-2-2zM9 17H7v-7h2v7zm4 0h-2V7h2v10zm4 0h-2v-4h2v4z\"/>\n",
              "    </g>\n",
              "</svg>\n",
              "      </button>\n",
              "\n",
              "<style>\n",
              "  .colab-df-quickchart {\n",
              "      --bg-color: #E8F0FE;\n",
              "      --fill-color: #1967D2;\n",
              "      --hover-bg-color: #E2EBFA;\n",
              "      --hover-fill-color: #174EA6;\n",
              "      --disabled-fill-color: #AAA;\n",
              "      --disabled-bg-color: #DDD;\n",
              "  }\n",
              "\n",
              "  [theme=dark] .colab-df-quickchart {\n",
              "      --bg-color: #3B4455;\n",
              "      --fill-color: #D2E3FC;\n",
              "      --hover-bg-color: #434B5C;\n",
              "      --hover-fill-color: #FFFFFF;\n",
              "      --disabled-bg-color: #3B4455;\n",
              "      --disabled-fill-color: #666;\n",
              "  }\n",
              "\n",
              "  .colab-df-quickchart {\n",
              "    background-color: var(--bg-color);\n",
              "    border: none;\n",
              "    border-radius: 50%;\n",
              "    cursor: pointer;\n",
              "    display: none;\n",
              "    fill: var(--fill-color);\n",
              "    height: 32px;\n",
              "    padding: 0;\n",
              "    width: 32px;\n",
              "  }\n",
              "\n",
              "  .colab-df-quickchart:hover {\n",
              "    background-color: var(--hover-bg-color);\n",
              "    box-shadow: 0 1px 2px rgba(60, 64, 67, 0.3), 0 1px 3px 1px rgba(60, 64, 67, 0.15);\n",
              "    fill: var(--button-hover-fill-color);\n",
              "  }\n",
              "\n",
              "  .colab-df-quickchart-complete:disabled,\n",
              "  .colab-df-quickchart-complete:disabled:hover {\n",
              "    background-color: var(--disabled-bg-color);\n",
              "    fill: var(--disabled-fill-color);\n",
              "    box-shadow: none;\n",
              "  }\n",
              "\n",
              "  .colab-df-spinner {\n",
              "    border: 2px solid var(--fill-color);\n",
              "    border-color: transparent;\n",
              "    border-bottom-color: var(--fill-color);\n",
              "    animation:\n",
              "      spin 1s steps(1) infinite;\n",
              "  }\n",
              "\n",
              "  @keyframes spin {\n",
              "    0% {\n",
              "      border-color: transparent;\n",
              "      border-bottom-color: var(--fill-color);\n",
              "      border-left-color: var(--fill-color);\n",
              "    }\n",
              "    20% {\n",
              "      border-color: transparent;\n",
              "      border-left-color: var(--fill-color);\n",
              "      border-top-color: var(--fill-color);\n",
              "    }\n",
              "    30% {\n",
              "      border-color: transparent;\n",
              "      border-left-color: var(--fill-color);\n",
              "      border-top-color: var(--fill-color);\n",
              "      border-right-color: var(--fill-color);\n",
              "    }\n",
              "    40% {\n",
              "      border-color: transparent;\n",
              "      border-right-color: var(--fill-color);\n",
              "      border-top-color: var(--fill-color);\n",
              "    }\n",
              "    60% {\n",
              "      border-color: transparent;\n",
              "      border-right-color: var(--fill-color);\n",
              "    }\n",
              "    80% {\n",
              "      border-color: transparent;\n",
              "      border-right-color: var(--fill-color);\n",
              "      border-bottom-color: var(--fill-color);\n",
              "    }\n",
              "    90% {\n",
              "      border-color: transparent;\n",
              "      border-bottom-color: var(--fill-color);\n",
              "    }\n",
              "  }\n",
              "</style>\n",
              "\n",
              "      <script>\n",
              "        async function quickchart(key) {\n",
              "          const quickchartButtonEl =\n",
              "            document.querySelector('#' + key + ' button');\n",
              "          quickchartButtonEl.disabled = true;  // To prevent multiple clicks.\n",
              "          quickchartButtonEl.classList.add('colab-df-spinner');\n",
              "          try {\n",
              "            const charts = await google.colab.kernel.invokeFunction(\n",
              "                'suggestCharts', [key], {});\n",
              "          } catch (error) {\n",
              "            console.error('Error during call to suggestCharts:', error);\n",
              "          }\n",
              "          quickchartButtonEl.classList.remove('colab-df-spinner');\n",
              "          quickchartButtonEl.classList.add('colab-df-quickchart-complete');\n",
              "        }\n",
              "        (() => {\n",
              "          let quickchartButtonEl =\n",
              "            document.querySelector('#df-5bfdfa6a-80f6-418f-b95b-8e5f09abea75 button');\n",
              "          quickchartButtonEl.style.display =\n",
              "            google.colab.kernel.accessAllowed ? 'block' : 'none';\n",
              "        })();\n",
              "      </script>\n",
              "    </div>\n",
              "\n",
              "    </div>\n",
              "  </div>\n"
            ],
            "application/vnd.google.colaboratory.intrinsic+json": {
              "type": "dataframe",
              "summary": "{\n  \"name\": \"df\",\n  \"rows\": 8,\n  \"fields\": [\n    {\n      \"column\": \"fixed acidity\",\n      \"properties\": {\n        \"dtype\": \"number\",\n        \"std\": 562.5806745048905,\n        \"min\": 1.7410963181277006,\n        \"max\": 1599.0,\n        \"num_unique_values\": 8,\n        \"samples\": [\n          8.31963727329581,\n          7.9,\n          1599.0\n        ],\n        \"semantic_type\": \"\",\n        \"description\": \"\"\n      }\n    },\n    {\n      \"column\": \"volatile acidity\",\n      \"properties\": {\n        \"dtype\": \"number\",\n        \"std\": 565.1321980080039,\n        \"min\": 0.12,\n        \"max\": 1599.0,\n        \"num_unique_values\": 8,\n        \"samples\": [\n          0.5278205128205128,\n          0.52,\n          1599.0\n        ],\n        \"semantic_type\": \"\",\n        \"description\": \"\"\n      }\n    },\n    {\n      \"column\": \"citric acid\",\n      \"properties\": {\n        \"dtype\": \"number\",\n        \"std\": 565.2190298438521,\n        \"min\": 0.0,\n        \"max\": 1599.0,\n        \"num_unique_values\": 8,\n        \"samples\": [\n          0.2709756097560976,\n          0.26,\n          1599.0\n        ],\n        \"semantic_type\": \"\",\n        \"description\": \"\"\n      }\n    },\n    {\n      \"column\": \"residual sugar\",\n      \"properties\": {\n        \"dtype\": \"number\",\n        \"std\": 563.9859918397556,\n        \"min\": 0.9,\n        \"max\": 1599.0,\n        \"num_unique_values\": 8,\n        \"samples\": [\n          2.53880550343965,\n          2.2,\n          1599.0\n        ],\n        \"semantic_type\": \"\",\n        \"description\": \"\"\n      }\n    },\n    {\n      \"column\": \"chlorides\",\n      \"properties\": {\n        \"dtype\": \"number\",\n        \"std\": 565.2815720420848,\n        \"min\": 0.012,\n        \"max\": 1599.0,\n        \"num_unique_values\": 8,\n        \"samples\": [\n          0.08746654158849279,\n          0.079,\n          1599.0\n        ],\n        \"semantic_type\": \"\",\n        \"description\": \"\"\n      }\n    },\n    {\n      \"column\": \"free sulfur dioxide\",\n      \"properties\": {\n        \"dtype\": \"number\",\n        \"std\": 558.6255652064851,\n        \"min\": 1.0,\n        \"max\": 1599.0,\n        \"num_unique_values\": 8,\n        \"samples\": [\n          15.874921826141339,\n          14.0,\n          1599.0\n        ],\n        \"semantic_type\": \"\",\n        \"description\": \"\"\n      }\n    },\n    {\n      \"column\": \"total sulfur dioxide\",\n      \"properties\": {\n        \"dtype\": \"number\",\n        \"std\": 547.7946740169228,\n        \"min\": 6.0,\n        \"max\": 1599.0,\n        \"num_unique_values\": 8,\n        \"samples\": [\n          46.46779237023139,\n          38.0,\n          1599.0\n        ],\n        \"semantic_type\": \"\",\n        \"description\": \"\"\n      }\n    },\n    {\n      \"column\": \"density\",\n      \"properties\": {\n        \"dtype\": \"number\",\n        \"std\": 565.0298129526797,\n        \"min\": 0.0018873339538425559,\n        \"max\": 1599.0,\n        \"num_unique_values\": 8,\n        \"samples\": [\n          0.9967466791744841,\n          0.99675,\n          1599.0\n        ],\n        \"semantic_type\": \"\",\n        \"description\": \"\"\n      }\n    },\n    {\n      \"column\": \"pH\",\n      \"properties\": {\n        \"dtype\": \"number\",\n        \"std\": 564.3160746075233,\n        \"min\": 0.15438646490354266,\n        \"max\": 1599.0,\n        \"num_unique_values\": 8,\n        \"samples\": [\n          3.3111131957473416,\n          3.31,\n          1599.0\n        ],\n        \"semantic_type\": \"\",\n        \"description\": \"\"\n      }\n    },\n    {\n      \"column\": \"sulphates\",\n      \"properties\": {\n        \"dtype\": \"number\",\n        \"std\": 565.0766914059569,\n        \"min\": 0.16950697959010977,\n        \"max\": 1599.0,\n        \"num_unique_values\": 8,\n        \"samples\": [\n          0.6581488430268917,\n          0.62,\n          1599.0\n        ],\n        \"semantic_type\": \"\",\n        \"description\": \"\"\n      }\n    },\n    {\n      \"column\": \"alcohol\",\n      \"properties\": {\n        \"dtype\": \"number\",\n        \"std\": 562.0325260314485,\n        \"min\": 1.0656675818473926,\n        \"max\": 1599.0,\n        \"num_unique_values\": 8,\n        \"samples\": [\n          10.422983114446529,\n          10.2,\n          1599.0\n        ],\n        \"semantic_type\": \"\",\n        \"description\": \"\"\n      }\n    },\n    {\n      \"column\": \"quality\",\n      \"properties\": {\n        \"dtype\": \"number\",\n        \"std\": 563.5963817822504,\n        \"min\": 0.8075694397347023,\n        \"max\": 1599.0,\n        \"num_unique_values\": 7,\n        \"samples\": [\n          1599.0,\n          5.6360225140712945,\n          6.0\n        ],\n        \"semantic_type\": \"\",\n        \"description\": \"\"\n      }\n    }\n  ]\n}"
            }
          },
          "metadata": {},
          "execution_count": 57
        }
      ],
      "source": [
        "import pandas as pd\n",
        "import numpy as np\n",
        "import matplotlib.pyplot as plt\n",
        "import seaborn as sns\n",
        "df = pd.read_csv(\"winequality-red (1).csv\", sep=\",\")\n",
        "df.head()\n",
        "df.info()\n",
        "df.describe()\n"
      ]
    },
    {
      "cell_type": "code",
      "execution_count": null,
      "metadata": {
        "id": "rQ2EFTyntbHf"
      },
      "outputs": [],
      "source": [
        "from google.colab import files\n",
        "uploaded = files.upload()"
      ]
    },
    {
      "cell_type": "markdown",
      "metadata": {
        "id": "6-mGy-AgysEd"
      },
      "source": [
        "####2.Chuẩn bị dữ liệu cho Visualization"
      ]
    },
    {
      "cell_type": "code",
      "execution_count": null,
      "metadata": {
        "id": "WyCSuOkkyvn1"
      },
      "outputs": [],
      "source": [
        "numeric_cols = ['alcohol','sulphates','citric acid','pH']\n",
        "target_col = 'quality'\n"
      ]
    },
    {
      "cell_type": "code",
      "execution_count": null,
      "metadata": {
        "id": "ZiEvXPsKz-qV",
        "colab": {
          "base_uri": "https://localhost:8080/"
        },
        "outputId": "036b848c-5c58-4ca6-8a46-13ca16b296a3"
      },
      "outputs": [
        {
          "output_type": "stream",
          "name": "stdout",
          "text": [
            "['fixed acidity', 'volatile acidity', 'citric acid', 'residual sugar', 'chlorides', 'free sulfur dioxide', 'total sulfur dioxide', 'density', 'pH', 'sulphates', 'alcohol', 'quality']\n"
          ]
        }
      ],
      "source": [
        "print(df.columns.tolist())\n"
      ]
    },
    {
      "cell_type": "markdown",
      "metadata": {
        "id": "AWVFYX_ry4-t"
      },
      "source": [
        "####3. Visualization Univariate (1 biến)\n",
        "Case 1 – Histogram (basic → advanced)"
      ]
    },
    {
      "cell_type": "code",
      "execution_count": null,
      "metadata": {
        "id": "DpyCVf1LzDld"
      },
      "outputs": [],
      "source": [
        "# basic\n",
        "sns.histplot(df['alcohol'], bins=30, kde=True)\n",
        "plt.show()\n",
        "\n",
        "# advanced\n",
        "plt.figure(figsize=(10,6))\n",
        "ax = sns.histplot(df['alcohol'], bins=30, kde=True, color='skyblue')\n",
        "ax.set_title(\"Histogram of Alcohol\", fontsize=16)\n",
        "ax.set_xlabel(\"Alcohol\")\n",
        "ax.set_ylabel(\"Count\")\n",
        "plt.show()\n"
      ]
    },
    {
      "cell_type": "markdown",
      "metadata": {
        "id": "KCVc0wbW1CxW"
      },
      "source": [
        "####Case 2 – Boxplot (basic → advanced)"
      ]
    },
    {
      "cell_type": "code",
      "execution_count": null,
      "metadata": {
        "colab": {
          "background_save": true
        },
        "id": "c5404Mw31FNW"
      },
      "outputs": [],
      "source": [
        "# basic\n",
        "sns.boxplot(y=df['sulphates'])\n",
        "plt.show()\n",
        "\n",
        "# advanced\n",
        "plt.figure(figsize=(6,6))\n",
        "ax = sns.boxplot(y=df['sulphates'], color='lightgreen')\n",
        "ax.set_title(\"Boxplot of Sulphates\", fontsize=16)\n",
        "ax.set_ylabel(\"Sulphates\")\n",
        "plt.show()\n"
      ]
    },
    {
      "cell_type": "markdown",
      "metadata": {
        "id": "NUSArjKr1QMM"
      },
      "source": [
        "####Case 3 – Countplot cho quality"
      ]
    },
    {
      "cell_type": "code",
      "execution_count": null,
      "metadata": {
        "colab": {
          "background_save": true
        },
        "id": "0oxP85GV1R_M"
      },
      "outputs": [],
      "source": [
        "# basic\n",
        "sns.countplot(x=df['quality'])\n",
        "plt.show()\n",
        "\n",
        "# advanced\n",
        "plt.figure(figsize=(8,6))\n",
        "ax = sns.countplot(x=df['quality'], palette=\"viridis\")\n",
        "ax.set_title(\"Distribution of Wine Quality\", fontsize=16)\n",
        "ax.set_xlabel(\"Quality score\")\n",
        "ax.set_ylabel(\"Count\")\n",
        "plt.show()\n"
      ]
    },
    {
      "cell_type": "markdown",
      "metadata": {
        "id": "SkjYnDAD1a19"
      },
      "source": [
        "####4. 4. Visualization Bivariate (2 biến)"
      ]
    },
    {
      "cell_type": "markdown",
      "metadata": {
        "id": "pcxNl6TP1dTs"
      },
      "source": [
        "####Case 1 – Boxplot Alcohol theo Quality"
      ]
    },
    {
      "cell_type": "code",
      "execution_count": null,
      "metadata": {
        "colab": {
          "background_save": true
        },
        "id": "N7m7KHQV1hBB"
      },
      "outputs": [],
      "source": [
        "plt.figure(figsize=(10,6))\n",
        "ax = sns.boxplot(x=df['quality'], y=df['alcohol'], palette=\"Set2\")\n",
        "ax.set_title(\"Alcohol by Wine Quality\", fontsize=16)\n",
        "ax.set_xlabel(\"Quality\")\n",
        "ax.set_ylabel(\"Alcohol\")\n",
        "plt.show()\n"
      ]
    },
    {
      "cell_type": "markdown",
      "metadata": {
        "id": "hN4aRTDC1nh1"
      },
      "source": [
        "####Case 2 – Violin Plot Alcohol theo Quality"
      ]
    },
    {
      "cell_type": "code",
      "execution_count": null,
      "metadata": {
        "id": "_07Cj6xN1pCN"
      },
      "outputs": [],
      "source": [
        "plt.figure(figsize=(10,6))\n",
        "ax = sns.violinplot(x=df['quality'], y=df['alcohol'], inner=\"quartile\", palette=\"muted\")\n",
        "ax.set_title(\"Alcohol Distribution by Quality\", fontsize=16)\n",
        "plt.show()\n"
      ]
    },
    {
      "cell_type": "markdown",
      "metadata": {
        "id": "4m1i6OVb1uxN"
      },
      "source": [
        "####Case 3 – Scatter Plot Citric acid vs Alcohol (màu theo quality)"
      ]
    },
    {
      "cell_type": "code",
      "execution_count": null,
      "metadata": {
        "id": "ClM3LBj21wNk"
      },
      "outputs": [],
      "source": [
        "plt.figure(figsize=(10,6))\n",
        "ax = sns.scatterplot(data=df, x=\"citric acid\", y=\"alcohol\", hue=\"quality\", palette=\"viridis\", alpha=0.7)\n",
        "ax.set_title(\"Citric Acid vs Alcohol by Quality\", fontsize=16)\n",
        "plt.show()\n"
      ]
    },
    {
      "cell_type": "markdown",
      "metadata": {
        "id": "3NKlymqf12H1"
      },
      "source": [
        "####Case 4 – Heatmap Correlation"
      ]
    },
    {
      "cell_type": "code",
      "execution_count": null,
      "metadata": {
        "id": "IdRZrcY915Q1"
      },
      "outputs": [],
      "source": [
        "plt.figure(figsize=(12,8))\n",
        "corr = df.corr()\n",
        "ax = sns.heatmap(corr, annot=True, cmap=\"coolwarm\", fmt=\".2f\")\n",
        "ax.set_title(\"Correlation Heatmap\", fontsize=16)\n",
        "plt.show()\n"
      ]
    },
    {
      "cell_type": "markdown",
      "metadata": {
        "id": "VS2EhvW319GL"
      },
      "source": [
        "####5. Nhận xét\n",
        "-Chất lượng rượu đỏ tập trung chủ yếu ở mức 5–6, ít rượu điểm 7–8.\n",
        "\n",
        "-Alcohol có xu hướng tăng khi quality tăng → rượu ngon thường có nồng độ cồn cao hơn.\n",
        "\n",
        "-Sulphates có một số outliers, phân bố lệch phải.\n",
        "\n",
        "-Heatmap cho thấy quality tương quan dương với alcohol (~ 0.48), tương quan âm với volatile acidity (~-0.39).\n",
        "\n",
        "-Dữ liệu có outliers nhẹ, phân bố các biến chủ yếu skewed (lệch phải)."
      ]
    },
    {
      "cell_type": "markdown",
      "metadata": {
        "id": "GE9B7YEm1-mE"
      },
      "source": []
    },
    {
      "cell_type": "markdown",
      "source": [
        "###1.2.3. Bài tập thực hành 2\n",
        "+ Thực hiện trực quan hóa dữ liệu trên tập dữ liệu về bệnh tiểu đường. Dữ liệu lấy tại\n",
        "https://www.kaggle.com/code/vincentlugat/pima-indians-diabetes-eda-prediction-0-906\n",
        "+ Thực hiện EDA trên tập dữ liệu mua sắm tại siêu thị. Tập dữ liệu lấy từ\n",
        "https://www.kaggle.com/code/rajatkumar30/eda-online-retail"
      ],
      "metadata": {
        "id": "jKDHCmjM9dml"
      }
    },
    {
      "cell_type": "markdown",
      "source": [
        "1. Import thư viện & nạp dữ liệu"
      ],
      "metadata": {
        "id": "h_qwZmj49iBK"
      }
    },
    {
      "cell_type": "code",
      "source": [
        "import pandas as pd\n",
        "import matplotlib.pyplot as plt\n",
        "import seaborn as sns\n",
        "\n",
        "\n",
        "df = pd.read_csv(\"diabetes.csv\")\n",
        "\n",
        "df.head()\n",
        "df.info()\n",
        "df.describe()\n"
      ],
      "metadata": {
        "colab": {
          "base_uri": "https://localhost:8080/",
          "height": 601
        },
        "id": "OKu0aeIm9r1i",
        "outputId": "cbba1343-fe0c-4e96-8c80-aa329546f40d"
      },
      "execution_count": null,
      "outputs": [
        {
          "output_type": "stream",
          "name": "stdout",
          "text": [
            "<class 'pandas.core.frame.DataFrame'>\n",
            "RangeIndex: 768 entries, 0 to 767\n",
            "Data columns (total 9 columns):\n",
            " #   Column                    Non-Null Count  Dtype  \n",
            "---  ------                    --------------  -----  \n",
            " 0   Pregnancies               768 non-null    int64  \n",
            " 1   Glucose                   768 non-null    int64  \n",
            " 2   BloodPressure             768 non-null    int64  \n",
            " 3   SkinThickness             768 non-null    int64  \n",
            " 4   Insulin                   768 non-null    int64  \n",
            " 5   BMI                       768 non-null    float64\n",
            " 6   DiabetesPedigreeFunction  768 non-null    float64\n",
            " 7   Age                       768 non-null    int64  \n",
            " 8   Outcome                   768 non-null    int64  \n",
            "dtypes: float64(2), int64(7)\n",
            "memory usage: 54.1 KB\n"
          ]
        },
        {
          "output_type": "execute_result",
          "data": {
            "text/plain": [
              "       Pregnancies    Glucose   BloodPressure  SkinThickness    Insulin   \\\n",
              "count  768.000000   768.000000   768.000000     768.000000    768.000000   \n",
              "mean     3.845052   120.894531    69.105469      20.536458     79.799479   \n",
              "std      3.369578    31.972618    19.355807      15.952218    115.244002   \n",
              "min      0.000000     0.000000     0.000000       0.000000      0.000000   \n",
              "25%      1.000000    99.000000    62.000000       0.000000      0.000000   \n",
              "50%      3.000000   117.000000    72.000000      23.000000     30.500000   \n",
              "75%      6.000000   140.250000    80.000000      32.000000    127.250000   \n",
              "max     17.000000   199.000000   122.000000      99.000000    846.000000   \n",
              "\n",
              "           BMI     DiabetesPedigreeFunction      Age       Outcome   \n",
              "count  768.000000         768.000000         768.000000  768.000000  \n",
              "mean    31.992578           0.471876          33.240885    0.348958  \n",
              "std      7.884160           0.331329          11.760232    0.476951  \n",
              "min      0.000000           0.078000          21.000000    0.000000  \n",
              "25%     27.300000           0.243750          24.000000    0.000000  \n",
              "50%     32.000000           0.372500          29.000000    0.000000  \n",
              "75%     36.600000           0.626250          41.000000    1.000000  \n",
              "max     67.100000           2.420000          81.000000    1.000000  "
            ],
            "text/html": [
              "\n",
              "  <div id=\"df-c9e5d68f-dcbb-43e7-bad9-5b89d604c656\" class=\"colab-df-container\">\n",
              "    <div>\n",
              "<style scoped>\n",
              "    .dataframe tbody tr th:only-of-type {\n",
              "        vertical-align: middle;\n",
              "    }\n",
              "\n",
              "    .dataframe tbody tr th {\n",
              "        vertical-align: top;\n",
              "    }\n",
              "\n",
              "    .dataframe thead th {\n",
              "        text-align: right;\n",
              "    }\n",
              "</style>\n",
              "<table border=\"1\" class=\"dataframe\">\n",
              "  <thead>\n",
              "    <tr style=\"text-align: center;\">\n",
              "      <th></th>\n",
              "      <th>Pregnancies</th>\n",
              "      <th>Glucose</th>\n",
              "      <th>BloodPressure</th>\n",
              "      <th>SkinThickness</th>\n",
              "      <th>Insulin</th>\n",
              "      <th>BMI</th>\n",
              "      <th>DiabetesPedigreeFunction</th>\n",
              "      <th>Age</th>\n",
              "      <th>Outcome</th>\n",
              "    </tr>\n",
              "  </thead>\n",
              "  <tbody>\n",
              "    <tr>\n",
              "      <th>count</th>\n",
              "      <td>768.000000</td>\n",
              "      <td>768.000000</td>\n",
              "      <td>768.000000</td>\n",
              "      <td>768.000000</td>\n",
              "      <td>768.000000</td>\n",
              "      <td>768.000000</td>\n",
              "      <td>768.000000</td>\n",
              "      <td>768.000000</td>\n",
              "      <td>768.000000</td>\n",
              "    </tr>\n",
              "    <tr>\n",
              "      <th>mean</th>\n",
              "      <td>3.845052</td>\n",
              "      <td>120.894531</td>\n",
              "      <td>69.105469</td>\n",
              "      <td>20.536458</td>\n",
              "      <td>79.799479</td>\n",
              "      <td>31.992578</td>\n",
              "      <td>0.471876</td>\n",
              "      <td>33.240885</td>\n",
              "      <td>0.348958</td>\n",
              "    </tr>\n",
              "    <tr>\n",
              "      <th>std</th>\n",
              "      <td>3.369578</td>\n",
              "      <td>31.972618</td>\n",
              "      <td>19.355807</td>\n",
              "      <td>15.952218</td>\n",
              "      <td>115.244002</td>\n",
              "      <td>7.884160</td>\n",
              "      <td>0.331329</td>\n",
              "      <td>11.760232</td>\n",
              "      <td>0.476951</td>\n",
              "    </tr>\n",
              "    <tr>\n",
              "      <th>min</th>\n",
              "      <td>0.000000</td>\n",
              "      <td>0.000000</td>\n",
              "      <td>0.000000</td>\n",
              "      <td>0.000000</td>\n",
              "      <td>0.000000</td>\n",
              "      <td>0.000000</td>\n",
              "      <td>0.078000</td>\n",
              "      <td>21.000000</td>\n",
              "      <td>0.000000</td>\n",
              "    </tr>\n",
              "    <tr>\n",
              "      <th>25%</th>\n",
              "      <td>1.000000</td>\n",
              "      <td>99.000000</td>\n",
              "      <td>62.000000</td>\n",
              "      <td>0.000000</td>\n",
              "      <td>0.000000</td>\n",
              "      <td>27.300000</td>\n",
              "      <td>0.243750</td>\n",
              "      <td>24.000000</td>\n",
              "      <td>0.000000</td>\n",
              "    </tr>\n",
              "    <tr>\n",
              "      <th>50%</th>\n",
              "      <td>3.000000</td>\n",
              "      <td>117.000000</td>\n",
              "      <td>72.000000</td>\n",
              "      <td>23.000000</td>\n",
              "      <td>30.500000</td>\n",
              "      <td>32.000000</td>\n",
              "      <td>0.372500</td>\n",
              "      <td>29.000000</td>\n",
              "      <td>0.000000</td>\n",
              "    </tr>\n",
              "    <tr>\n",
              "      <th>75%</th>\n",
              "      <td>6.000000</td>\n",
              "      <td>140.250000</td>\n",
              "      <td>80.000000</td>\n",
              "      <td>32.000000</td>\n",
              "      <td>127.250000</td>\n",
              "      <td>36.600000</td>\n",
              "      <td>0.626250</td>\n",
              "      <td>41.000000</td>\n",
              "      <td>1.000000</td>\n",
              "    </tr>\n",
              "    <tr>\n",
              "      <th>max</th>\n",
              "      <td>17.000000</td>\n",
              "      <td>199.000000</td>\n",
              "      <td>122.000000</td>\n",
              "      <td>99.000000</td>\n",
              "      <td>846.000000</td>\n",
              "      <td>67.100000</td>\n",
              "      <td>2.420000</td>\n",
              "      <td>81.000000</td>\n",
              "      <td>1.000000</td>\n",
              "    </tr>\n",
              "  </tbody>\n",
              "</table>\n",
              "</div>\n",
              "    <div class=\"colab-df-buttons\">\n",
              "\n",
              "  <div class=\"colab-df-container\">\n",
              "    <button class=\"colab-df-convert\" onclick=\"convertToInteractive('df-c9e5d68f-dcbb-43e7-bad9-5b89d604c656')\"\n",
              "            title=\"Convert this dataframe to an interactive table.\"\n",
              "            style=\"display:none;\">\n",
              "\n",
              "  <svg xmlns=\"http://www.w3.org/2000/svg\" height=\"24px\" viewBox=\"0 -960 960 960\">\n",
              "    <path d=\"M120-120v-720h720v720H120Zm60-500h600v-160H180v160Zm220 220h160v-160H400v160Zm0 220h160v-160H400v160ZM180-400h160v-160H180v160Zm440 0h160v-160H620v160ZM180-180h160v-160H180v160Zm440 0h160v-160H620v160Z\"/>\n",
              "  </svg>\n",
              "    </button>\n",
              "\n",
              "  <style>\n",
              "    .colab-df-container {\n",
              "      display:flex;\n",
              "      gap: 12px;\n",
              "    }\n",
              "\n",
              "    .colab-df-convert {\n",
              "      background-color: #E8F0FE;\n",
              "      border: none;\n",
              "      border-radius: 50%;\n",
              "      cursor: pointer;\n",
              "      display: none;\n",
              "      fill: #1967D2;\n",
              "      height: 32px;\n",
              "      padding: 0 0 0 0;\n",
              "      width: 32px;\n",
              "    }\n",
              "\n",
              "    .colab-df-convert:hover {\n",
              "      background-color: #E2EBFA;\n",
              "      box-shadow: 0px 1px 2px rgba(60, 64, 67, 0.3), 0px 1px 3px 1px rgba(60, 64, 67, 0.15);\n",
              "      fill: #174EA6;\n",
              "    }\n",
              "\n",
              "    .colab-df-buttons div {\n",
              "      margin-bottom: 4px;\n",
              "    }\n",
              "\n",
              "    [theme=dark] .colab-df-convert {\n",
              "      background-color: #3B4455;\n",
              "      fill: #D2E3FC;\n",
              "    }\n",
              "\n",
              "    [theme=dark] .colab-df-convert:hover {\n",
              "      background-color: #434B5C;\n",
              "      box-shadow: 0px 1px 3px 1px rgba(0, 0, 0, 0.15);\n",
              "      filter: drop-shadow(0px 1px 2px rgba(0, 0, 0, 0.3));\n",
              "      fill: #FFFFFF;\n",
              "    }\n",
              "  </style>\n",
              "\n",
              "    <script>\n",
              "      const buttonEl =\n",
              "        document.querySelector('#df-c9e5d68f-dcbb-43e7-bad9-5b89d604c656 button.colab-df-convert');\n",
              "      buttonEl.style.display =\n",
              "        google.colab.kernel.accessAllowed ? 'block' : 'none';\n",
              "\n",
              "      async function convertToInteractive(key) {\n",
              "        const element = document.querySelector('#df-c9e5d68f-dcbb-43e7-bad9-5b89d604c656');\n",
              "        const dataTable =\n",
              "          await google.colab.kernel.invokeFunction('convertToInteractive',\n",
              "                                                    [key], {});\n",
              "        if (!dataTable) return;\n",
              "\n",
              "        const docLinkHtml = 'Like what you see? Visit the ' +\n",
              "          '<a target=\"_blank\" href=https://colab.research.google.com/notebooks/data_table.ipynb>data table notebook</a>'\n",
              "          + ' to learn more about interactive tables.';\n",
              "        element.innerHTML = '';\n",
              "        dataTable['output_type'] = 'display_data';\n",
              "        await google.colab.output.renderOutput(dataTable, element);\n",
              "        const docLink = document.createElement('div');\n",
              "        docLink.innerHTML = docLinkHtml;\n",
              "        element.appendChild(docLink);\n",
              "      }\n",
              "    </script>\n",
              "  </div>\n",
              "\n",
              "\n",
              "    <div id=\"df-efbf92c0-15bc-41aa-82fc-950214faa267\">\n",
              "      <button class=\"colab-df-quickchart\" onclick=\"quickchart('df-efbf92c0-15bc-41aa-82fc-950214faa267')\"\n",
              "                title=\"Suggest charts\"\n",
              "                style=\"display:none;\">\n",
              "\n",
              "<svg xmlns=\"http://www.w3.org/2000/svg\" height=\"24px\"viewBox=\"0 0 24 24\"\n",
              "     width=\"24px\">\n",
              "    <g>\n",
              "        <path d=\"M19 3H5c-1.1 0-2 .9-2 2v14c0 1.1.9 2 2 2h14c1.1 0 2-.9 2-2V5c0-1.1-.9-2-2-2zM9 17H7v-7h2v7zm4 0h-2V7h2v10zm4 0h-2v-4h2v4z\"/>\n",
              "    </g>\n",
              "</svg>\n",
              "      </button>\n",
              "\n",
              "<style>\n",
              "  .colab-df-quickchart {\n",
              "      --bg-color: #E8F0FE;\n",
              "      --fill-color: #1967D2;\n",
              "      --hover-bg-color: #E2EBFA;\n",
              "      --hover-fill-color: #174EA6;\n",
              "      --disabled-fill-color: #AAA;\n",
              "      --disabled-bg-color: #DDD;\n",
              "  }\n",
              "\n",
              "  [theme=dark] .colab-df-quickchart {\n",
              "      --bg-color: #3B4455;\n",
              "      --fill-color: #D2E3FC;\n",
              "      --hover-bg-color: #434B5C;\n",
              "      --hover-fill-color: #FFFFFF;\n",
              "      --disabled-bg-color: #3B4455;\n",
              "      --disabled-fill-color: #666;\n",
              "  }\n",
              "\n",
              "  .colab-df-quickchart {\n",
              "    background-color: var(--bg-color);\n",
              "    border: none;\n",
              "    border-radius: 50%;\n",
              "    cursor: pointer;\n",
              "    display: none;\n",
              "    fill: var(--fill-color);\n",
              "    height: 32px;\n",
              "    padding: 0;\n",
              "    width: 32px;\n",
              "  }\n",
              "\n",
              "  .colab-df-quickchart:hover {\n",
              "    background-color: var(--hover-bg-color);\n",
              "    box-shadow: 0 1px 2px rgba(60, 64, 67, 0.3), 0 1px 3px 1px rgba(60, 64, 67, 0.15);\n",
              "    fill: var(--button-hover-fill-color);\n",
              "  }\n",
              "\n",
              "  .colab-df-quickchart-complete:disabled,\n",
              "  .colab-df-quickchart-complete:disabled:hover {\n",
              "    background-color: var(--disabled-bg-color);\n",
              "    fill: var(--disabled-fill-color);\n",
              "    box-shadow: none;\n",
              "  }\n",
              "\n",
              "  .colab-df-spinner {\n",
              "    border: 2px solid var(--fill-color);\n",
              "    border-color: transparent;\n",
              "    border-bottom-color: var(--fill-color);\n",
              "    animation:\n",
              "      spin 1s steps(1) infinite;\n",
              "  }\n",
              "\n",
              "  @keyframes spin {\n",
              "    0% {\n",
              "      border-color: transparent;\n",
              "      border-bottom-color: var(--fill-color);\n",
              "      border-left-color: var(--fill-color);\n",
              "    }\n",
              "    20% {\n",
              "      border-color: transparent;\n",
              "      border-left-color: var(--fill-color);\n",
              "      border-top-color: var(--fill-color);\n",
              "    }\n",
              "    30% {\n",
              "      border-color: transparent;\n",
              "      border-left-color: var(--fill-color);\n",
              "      border-top-color: var(--fill-color);\n",
              "      border-right-color: var(--fill-color);\n",
              "    }\n",
              "    40% {\n",
              "      border-color: transparent;\n",
              "      border-right-color: var(--fill-color);\n",
              "      border-top-color: var(--fill-color);\n",
              "    }\n",
              "    60% {\n",
              "      border-color: transparent;\n",
              "      border-right-color: var(--fill-color);\n",
              "    }\n",
              "    80% {\n",
              "      border-color: transparent;\n",
              "      border-right-color: var(--fill-color);\n",
              "      border-bottom-color: var(--fill-color);\n",
              "    }\n",
              "    90% {\n",
              "      border-color: transparent;\n",
              "      border-bottom-color: var(--fill-color);\n",
              "    }\n",
              "  }\n",
              "</style>\n",
              "\n",
              "      <script>\n",
              "        async function quickchart(key) {\n",
              "          const quickchartButtonEl =\n",
              "            document.querySelector('#' + key + ' button');\n",
              "          quickchartButtonEl.disabled = true;  // To prevent multiple clicks.\n",
              "          quickchartButtonEl.classList.add('colab-df-spinner');\n",
              "          try {\n",
              "            const charts = await google.colab.kernel.invokeFunction(\n",
              "                'suggestCharts', [key], {});\n",
              "          } catch (error) {\n",
              "            console.error('Error during call to suggestCharts:', error);\n",
              "          }\n",
              "          quickchartButtonEl.classList.remove('colab-df-spinner');\n",
              "          quickchartButtonEl.classList.add('colab-df-quickchart-complete');\n",
              "        }\n",
              "        (() => {\n",
              "          let quickchartButtonEl =\n",
              "            document.querySelector('#df-efbf92c0-15bc-41aa-82fc-950214faa267 button');\n",
              "          quickchartButtonEl.style.display =\n",
              "            google.colab.kernel.accessAllowed ? 'block' : 'none';\n",
              "        })();\n",
              "      </script>\n",
              "    </div>\n",
              "\n",
              "    </div>\n",
              "  </div>\n"
            ],
            "application/vnd.google.colaboratory.intrinsic+json": {
              "type": "dataframe",
              "summary": "{\n  \"name\": \"df\",\n  \"rows\": 8,\n  \"fields\": [\n    {\n      \"column\": \"Pregnancies\",\n      \"properties\": {\n        \"dtype\": \"number\",\n        \"std\": 269.85223453356366,\n        \"min\": 0.0,\n        \"max\": 768.0,\n        \"num_unique_values\": 8,\n        \"samples\": [\n          3.8450520833333335,\n          3.0,\n          768.0\n        ],\n        \"semantic_type\": \"\",\n        \"description\": \"\"\n      }\n    },\n    {\n      \"column\": \"Glucose\",\n      \"properties\": {\n        \"dtype\": \"number\",\n        \"std\": 243.73802348295857,\n        \"min\": 0.0,\n        \"max\": 768.0,\n        \"num_unique_values\": 8,\n        \"samples\": [\n          120.89453125,\n          117.0,\n          768.0\n        ],\n        \"semantic_type\": \"\",\n        \"description\": \"\"\n      }\n    },\n    {\n      \"column\": \"BloodPressure\",\n      \"properties\": {\n        \"dtype\": \"number\",\n        \"std\": 252.85250535810619,\n        \"min\": 0.0,\n        \"max\": 768.0,\n        \"num_unique_values\": 8,\n        \"samples\": [\n          69.10546875,\n          72.0,\n          768.0\n        ],\n        \"semantic_type\": \"\",\n        \"description\": \"\"\n      }\n    },\n    {\n      \"column\": \"SkinThickness\",\n      \"properties\": {\n        \"dtype\": \"number\",\n        \"std\": 263.7684730531098,\n        \"min\": 0.0,\n        \"max\": 768.0,\n        \"num_unique_values\": 7,\n        \"samples\": [\n          768.0,\n          20.536458333333332,\n          32.0\n        ],\n        \"semantic_type\": \"\",\n        \"description\": \"\"\n      }\n    },\n    {\n      \"column\": \"Insulin\",\n      \"properties\": {\n        \"dtype\": \"number\",\n        \"std\": 350.26059167945886,\n        \"min\": 0.0,\n        \"max\": 846.0,\n        \"num_unique_values\": 7,\n        \"samples\": [\n          768.0,\n          79.79947916666667,\n          127.25\n        ],\n        \"semantic_type\": \"\",\n        \"description\": \"\"\n      }\n    },\n    {\n      \"column\": \"BMI\",\n      \"properties\": {\n        \"dtype\": \"number\",\n        \"std\": 262.05117817552093,\n        \"min\": 0.0,\n        \"max\": 768.0,\n        \"num_unique_values\": 8,\n        \"samples\": [\n          31.992578124999998,\n          32.0,\n          768.0\n        ],\n        \"semantic_type\": \"\",\n        \"description\": \"\"\n      }\n    },\n    {\n      \"column\": \"DiabetesPedigreeFunction\",\n      \"properties\": {\n        \"dtype\": \"number\",\n        \"std\": 271.3005221658502,\n        \"min\": 0.078,\n        \"max\": 768.0,\n        \"num_unique_values\": 8,\n        \"samples\": [\n          0.47187630208333325,\n          0.3725,\n          768.0\n        ],\n        \"semantic_type\": \"\",\n        \"description\": \"\"\n      }\n    },\n    {\n      \"column\": \"Age\",\n      \"properties\": {\n        \"dtype\": \"number\",\n        \"std\": 260.1941178528413,\n        \"min\": 11.76023154067868,\n        \"max\": 768.0,\n        \"num_unique_values\": 8,\n        \"samples\": [\n          33.240885416666664,\n          29.0,\n          768.0\n        ],\n        \"semantic_type\": \"\",\n        \"description\": \"\"\n      }\n    },\n    {\n      \"column\": \"Outcome\",\n      \"properties\": {\n        \"dtype\": \"number\",\n        \"std\": 271.3865920388932,\n        \"min\": 0.0,\n        \"max\": 768.0,\n        \"num_unique_values\": 5,\n        \"samples\": [\n          0.3489583333333333,\n          1.0,\n          0.4769513772427971\n        ],\n        \"semantic_type\": \"\",\n        \"description\": \"\"\n      }\n    }\n  ]\n}"
            }
          },
          "metadata": {},
          "execution_count": 67
        }
      ]
    },
    {
      "cell_type": "code",
      "source": [
        "from google.colab import files\n",
        "uploaded = files.upload()"
      ],
      "metadata": {
        "colab": {
          "base_uri": "https://localhost:8080/",
          "height": 73
        },
        "id": "cigr3c5I91aK",
        "outputId": "6f94de83-a8f8-4fa4-a9db-044f458e54ba"
      },
      "execution_count": null,
      "outputs": [
        {
          "output_type": "display_data",
          "data": {
            "text/plain": [
              "<IPython.core.display.HTML object>"
            ],
            "text/html": [
              "\n",
              "     <input type=\"file\" id=\"files-ab2ec976-d36f-484e-8edf-64027354bf81\" name=\"files[]\" multiple disabled\n",
              "        style=\"border:none\" />\n",
              "     <output id=\"result-ab2ec976-d36f-484e-8edf-64027354bf81\">\n",
              "      Upload widget is only available when the cell has been executed in the\n",
              "      current browser session. Please rerun this cell to enable.\n",
              "      </output>\n",
              "      <script>// Copyright 2017 Google LLC\n",
              "//\n",
              "// Licensed under the Apache License, Version 2.0 (the \"License\");\n",
              "// you may not use this file except in compliance with the License.\n",
              "// You may obtain a copy of the License at\n",
              "//\n",
              "//      http://www.apache.org/licenses/LICENSE-2.0\n",
              "//\n",
              "// Unless required by applicable law or agreed to in writing, software\n",
              "// distributed under the License is distributed on an \"AS IS\" BASIS,\n",
              "// WITHOUT WARRANTIES OR CONDITIONS OF ANY KIND, either express or implied.\n",
              "// See the License for the specific language governing permissions and\n",
              "// limitations under the License.\n",
              "\n",
              "/**\n",
              " * @fileoverview Helpers for google.colab Python module.\n",
              " */\n",
              "(function(scope) {\n",
              "function span(text, styleAttributes = {}) {\n",
              "  const element = document.createElement('span');\n",
              "  element.textContent = text;\n",
              "  for (const key of Object.keys(styleAttributes)) {\n",
              "    element.style[key] = styleAttributes[key];\n",
              "  }\n",
              "  return element;\n",
              "}\n",
              "\n",
              "// Max number of bytes which will be uploaded at a time.\n",
              "const MAX_PAYLOAD_SIZE = 100 * 1024;\n",
              "\n",
              "function _uploadFiles(inputId, outputId) {\n",
              "  const steps = uploadFilesStep(inputId, outputId);\n",
              "  const outputElement = document.getElementById(outputId);\n",
              "  // Cache steps on the outputElement to make it available for the next call\n",
              "  // to uploadFilesContinue from Python.\n",
              "  outputElement.steps = steps;\n",
              "\n",
              "  return _uploadFilesContinue(outputId);\n",
              "}\n",
              "\n",
              "// This is roughly an async generator (not supported in the browser yet),\n",
              "// where there are multiple asynchronous steps and the Python side is going\n",
              "// to poll for completion of each step.\n",
              "// This uses a Promise to block the python side on completion of each step,\n",
              "// then passes the result of the previous step as the input to the next step.\n",
              "function _uploadFilesContinue(outputId) {\n",
              "  const outputElement = document.getElementById(outputId);\n",
              "  const steps = outputElement.steps;\n",
              "\n",
              "  const next = steps.next(outputElement.lastPromiseValue);\n",
              "  return Promise.resolve(next.value.promise).then((value) => {\n",
              "    // Cache the last promise value to make it available to the next\n",
              "    // step of the generator.\n",
              "    outputElement.lastPromiseValue = value;\n",
              "    return next.value.response;\n",
              "  });\n",
              "}\n",
              "\n",
              "/**\n",
              " * Generator function which is called between each async step of the upload\n",
              " * process.\n",
              " * @param {string} inputId Element ID of the input file picker element.\n",
              " * @param {string} outputId Element ID of the output display.\n",
              " * @return {!Iterable<!Object>} Iterable of next steps.\n",
              " */\n",
              "function* uploadFilesStep(inputId, outputId) {\n",
              "  const inputElement = document.getElementById(inputId);\n",
              "  inputElement.disabled = false;\n",
              "\n",
              "  const outputElement = document.getElementById(outputId);\n",
              "  outputElement.innerHTML = '';\n",
              "\n",
              "  const pickedPromise = new Promise((resolve) => {\n",
              "    inputElement.addEventListener('change', (e) => {\n",
              "      resolve(e.target.files);\n",
              "    });\n",
              "  });\n",
              "\n",
              "  const cancel = document.createElement('button');\n",
              "  inputElement.parentElement.appendChild(cancel);\n",
              "  cancel.textContent = 'Cancel upload';\n",
              "  const cancelPromise = new Promise((resolve) => {\n",
              "    cancel.onclick = () => {\n",
              "      resolve(null);\n",
              "    };\n",
              "  });\n",
              "\n",
              "  // Wait for the user to pick the files.\n",
              "  const files = yield {\n",
              "    promise: Promise.race([pickedPromise, cancelPromise]),\n",
              "    response: {\n",
              "      action: 'starting',\n",
              "    }\n",
              "  };\n",
              "\n",
              "  cancel.remove();\n",
              "\n",
              "  // Disable the input element since further picks are not allowed.\n",
              "  inputElement.disabled = true;\n",
              "\n",
              "  if (!files) {\n",
              "    return {\n",
              "      response: {\n",
              "        action: 'complete',\n",
              "      }\n",
              "    };\n",
              "  }\n",
              "\n",
              "  for (const file of files) {\n",
              "    const li = document.createElement('li');\n",
              "    li.append(span(file.name, {fontWeight: 'bold'}));\n",
              "    li.append(span(\n",
              "        `(${file.type || 'n/a'}) - ${file.size} bytes, ` +\n",
              "        `last modified: ${\n",
              "            file.lastModifiedDate ? file.lastModifiedDate.toLocaleDateString() :\n",
              "                                    'n/a'} - `));\n",
              "    const percent = span('0% done');\n",
              "    li.appendChild(percent);\n",
              "\n",
              "    outputElement.appendChild(li);\n",
              "\n",
              "    const fileDataPromise = new Promise((resolve) => {\n",
              "      const reader = new FileReader();\n",
              "      reader.onload = (e) => {\n",
              "        resolve(e.target.result);\n",
              "      };\n",
              "      reader.readAsArrayBuffer(file);\n",
              "    });\n",
              "    // Wait for the data to be ready.\n",
              "    let fileData = yield {\n",
              "      promise: fileDataPromise,\n",
              "      response: {\n",
              "        action: 'continue',\n",
              "      }\n",
              "    };\n",
              "\n",
              "    // Use a chunked sending to avoid message size limits. See b/62115660.\n",
              "    let position = 0;\n",
              "    do {\n",
              "      const length = Math.min(fileData.byteLength - position, MAX_PAYLOAD_SIZE);\n",
              "      const chunk = new Uint8Array(fileData, position, length);\n",
              "      position += length;\n",
              "\n",
              "      const base64 = btoa(String.fromCharCode.apply(null, chunk));\n",
              "      yield {\n",
              "        response: {\n",
              "          action: 'append',\n",
              "          file: file.name,\n",
              "          data: base64,\n",
              "        },\n",
              "      };\n",
              "\n",
              "      let percentDone = fileData.byteLength === 0 ?\n",
              "          100 :\n",
              "          Math.round((position / fileData.byteLength) * 100);\n",
              "      percent.textContent = `${percentDone}% done`;\n",
              "\n",
              "    } while (position < fileData.byteLength);\n",
              "  }\n",
              "\n",
              "  // All done.\n",
              "  yield {\n",
              "    response: {\n",
              "      action: 'complete',\n",
              "    }\n",
              "  };\n",
              "}\n",
              "\n",
              "scope.google = scope.google || {};\n",
              "scope.google.colab = scope.google.colab || {};\n",
              "scope.google.colab._files = {\n",
              "  _uploadFiles,\n",
              "  _uploadFilesContinue,\n",
              "};\n",
              "})(self);\n",
              "</script> "
            ]
          },
          "metadata": {}
        },
        {
          "output_type": "stream",
          "name": "stdout",
          "text": [
            "Saving diabetes.csv to diabetes.csv\n"
          ]
        }
      ]
    },
    {
      "cell_type": "markdown",
      "source": [
        "2. Visualization – Univariate (1 biến)"
      ],
      "metadata": {
        "id": "48dCxOgs9_-e"
      }
    },
    {
      "cell_type": "code",
      "source": [
        "sns.histplot(df['Glucose'], bins=30, kde=True)\n",
        "plt.title(\"Histogram of Glucose\")\n",
        "plt.show()\n",
        "\n",
        "sns.histplot(df['BMI'], bins=30, kde=True, color=\"orange\")\n",
        "plt.title(\"Histogram of BMI\")\n",
        "plt.show()\n"
      ],
      "metadata": {
        "id": "jmP6qZS9-Ayk"
      },
      "execution_count": null,
      "outputs": []
    },
    {
      "cell_type": "markdown",
      "source": [
        "Boxplot (BloodPressure)"
      ],
      "metadata": {
        "id": "S0p6MJXk-JlK"
      }
    },
    {
      "cell_type": "code",
      "source": [
        "sns.boxplot(y=df['BloodPressure'])\n",
        "plt.title(\"Boxplot of BloodPressure\")\n",
        "plt.show()\n"
      ],
      "metadata": {
        "id": "-ppQAJ0B-LoK"
      },
      "execution_count": null,
      "outputs": []
    },
    {
      "cell_type": "markdown",
      "source": [
        "Countplot (Outcome)"
      ],
      "metadata": {
        "id": "y6XeieRP-OFi"
      }
    },
    {
      "cell_type": "code",
      "source": [
        "sns.countplot(x=df['Outcome'], palette=\"Set2\")\n",
        "plt.title(\"Distribution of Diabetes Outcome (0=No, 1=Yes)\")\n",
        "plt.show()\n"
      ],
      "metadata": {
        "id": "wiuqILiA-Pox"
      },
      "execution_count": null,
      "outputs": []
    },
    {
      "cell_type": "markdown",
      "source": [
        "3. Visualization – Bivariate (2 biến)\n",
        "Scatter Plot: Glucose vs BMI"
      ],
      "metadata": {
        "id": "wfaWUB32-Sfr"
      }
    },
    {
      "cell_type": "code",
      "source": [
        "sns.scatterplot(x='Glucose', y='BMI', hue='Outcome', data=df, palette=\"coolwarm\", alpha=0.6)\n",
        "plt.title(\"Scatter Plot: Glucose vs BMI by Outcome\")\n",
        "plt.show()\n"
      ],
      "metadata": {
        "id": "xMkvbGwH-UJy"
      },
      "execution_count": null,
      "outputs": []
    },
    {
      "cell_type": "markdown",
      "source": [
        "Violin Plot: Age theo Outcome"
      ],
      "metadata": {
        "id": "l5gkjeXr-WQE"
      }
    },
    {
      "cell_type": "code",
      "source": [
        "sns.violinplot(x='Outcome', y='Age', data=df, palette=\"muted\", inner=\"quartile\")\n",
        "plt.title(\"Age Distribution by Diabetes Outcome\")\n",
        "plt.show()\n"
      ],
      "metadata": {
        "id": "QV9Fm5Kw-X7K"
      },
      "execution_count": null,
      "outputs": []
    },
    {
      "cell_type": "markdown",
      "source": [
        "Heatmap: Ma trận tương quan"
      ],
      "metadata": {
        "id": "5K7cD35d-fGC"
      }
    },
    {
      "cell_type": "code",
      "source": [
        "plt.figure(figsize=(10,8))\n",
        "corr = df.corr(numeric_only=True)\n",
        "sns.heatmap(corr, annot=True, fmt=\".2f\", cmap=\"coolwarm\")\n",
        "plt.title(\"Correlation Heatmap - Diabetes Dataset\")\n",
        "plt.show()\n"
      ],
      "metadata": {
        "id": "YpN_aieQ-cIS"
      },
      "execution_count": null,
      "outputs": []
    },
    {
      "cell_type": "markdown",
      "source": [
        "4. Nhận xét (mẫu)\n",
        "\n",
        "-Glucose và BMI phân bố lệch phải, có nhiều giá trị cao.\n",
        "\n",
        "-BloodPressure có outliers và một số giá trị bằng 0 bất thường → cần xử lý.\n",
        "\n",
        "-Outcome mất cân bằng: nhóm không tiểu đường (0) nhiều hơn nhóm tiểu đường (1).\n",
        "\n",
        "-Scatterplot cho thấy người bị tiểu đường (Outcome=1) thường có Glucose cao hơn.\n",
        "\n",
        "-Age trung bình ở nhóm Outcome=1 cao hơn nhóm 0.\n",
        "\n",
        "-Tương quan: Outcome liên quan nhiều nhất đến Glucose, BMI, Age."
      ],
      "metadata": {
        "id": "91sbQY8w-mSK"
      }
    },
    {
      "cell_type": "markdown",
      "metadata": {
        "id": "HAV2ayPt_qsS"
      },
      "source": [
        "#1.3. Phân tích đơn biến và hai biến"
      ]
    },
    {
      "cell_type": "markdown",
      "metadata": {
        "id": "NyBlCJbOePSg"
      },
      "source": [
        "# Bài thực hành 1.3.3 và 1.3.4 – Phân tích EDA tự động\n",
        "\n",
        "Trong bài này, ta sử dụng 2 công cụ EDA tự động:\n",
        "- **SweetViz** (1.3.3): tạo báo cáo trực quan tổng quan và so sánh nhóm.\n",
        "- **AutoViz** (1.3.4): sinh nhiều biểu đồ phân tích đơn biến và hai biến.\n",
        "\n",
        "Dữ liệu áp dụng: **Marketing Campaign** từ Kaggle.  \n",
        "Mục tiêu: phát hiện missing values, phân phối dữ liệu, outliers và mối quan hệ giữa các biến.\n"
      ]
    },
    {
      "cell_type": "markdown",
      "metadata": {
        "id": "22e2f38a"
      },
      "source": [
        "##1.3.3. Bài tập thực hành 1\n",
        "Tìm hiểu các tính năng và cách sử dụng sản phẩm SweetViz (https://pypi.org/project/sweetviz) áp dụng\n",
        "trên tập dữ liệu Marketing Campaign"
      ]
    },
    {
      "cell_type": "markdown",
      "metadata": {
        "id": "d12197bb"
      },
      "source": [
        "####1. Import thư viện và nạp dữ liệu"
      ]
    },
    {
      "cell_type": "code",
      "execution_count": null,
      "metadata": {
        "colab": {
          "base_uri": "https://localhost:8080/"
        },
        "id": "aaad12be",
        "outputId": "26f7e23d-4235-4bda-9389-e9e9f4e090f7"
      },
      "outputs": [
        {
          "output_type": "stream",
          "name": "stdout",
          "text": [
            "Requirement already satisfied: numpy==1.26.4 in /usr/local/lib/python3.12/dist-packages (1.26.4)\n"
          ]
        }
      ],
      "source": [
        "!pip install numpy==1.26.4\n",
        "!pip install sweetviz --upgrade --quiet\n",
        "import sweetviz as sv"
      ]
    },
    {
      "cell_type": "code",
      "execution_count": null,
      "metadata": {
        "id": "f99600b8",
        "colab": {
          "base_uri": "https://localhost:8080/",
          "height": 356
        },
        "outputId": "34696987-d2ae-4e31-d3c2-44823efbc866"
      },
      "outputs": [
        {
          "output_type": "error",
          "ename": "FileNotFoundError",
          "evalue": "[Errno 2] No such file or directory: 'marketing_campaign.csv'",
          "traceback": [
            "\u001b[0;31m---------------------------------------------------------------------------\u001b[0m",
            "\u001b[0;31mFileNotFoundError\u001b[0m                         Traceback (most recent call last)",
            "\u001b[0;32m/tmp/ipython-input-802848406.py\u001b[0m in \u001b[0;36m<cell line: 0>\u001b[0;34m()\u001b[0m\n\u001b[1;32m      1\u001b[0m \u001b[0;32mimport\u001b[0m \u001b[0mpandas\u001b[0m \u001b[0;32mas\u001b[0m \u001b[0mpd\u001b[0m\u001b[0;34m\u001b[0m\u001b[0;34m\u001b[0m\u001b[0m\n\u001b[0;32m----> 2\u001b[0;31m \u001b[0mdf\u001b[0m \u001b[0;34m=\u001b[0m \u001b[0mpd\u001b[0m\u001b[0;34m.\u001b[0m\u001b[0mread_csv\u001b[0m\u001b[0;34m(\u001b[0m\u001b[0;34m\"marketing_campaign.csv\"\u001b[0m\u001b[0;34m,\u001b[0m \u001b[0msep\u001b[0m\u001b[0;34m=\u001b[0m\u001b[0;34m\"\\t\"\u001b[0m\u001b[0;34m)\u001b[0m\u001b[0;34m\u001b[0m\u001b[0;34m\u001b[0m\u001b[0m\n\u001b[0m\u001b[1;32m      3\u001b[0m \u001b[0mprint\u001b[0m\u001b[0;34m(\u001b[0m\u001b[0;34m\"Kích thước:\"\u001b[0m\u001b[0;34m,\u001b[0m \u001b[0mdf\u001b[0m\u001b[0;34m.\u001b[0m\u001b[0mshape\u001b[0m\u001b[0;34m)\u001b[0m\u001b[0;34m\u001b[0m\u001b[0;34m\u001b[0m\u001b[0m\n\u001b[1;32m      4\u001b[0m \u001b[0mdf\u001b[0m\u001b[0;34m.\u001b[0m\u001b[0mhead\u001b[0m\u001b[0;34m(\u001b[0m\u001b[0;34m)\u001b[0m\u001b[0;34m\u001b[0m\u001b[0;34m\u001b[0m\u001b[0m\n",
            "\u001b[0;32m/usr/local/lib/python3.12/dist-packages/pandas/io/parsers/readers.py\u001b[0m in \u001b[0;36mread_csv\u001b[0;34m(filepath_or_buffer, sep, delimiter, header, names, index_col, usecols, dtype, engine, converters, true_values, false_values, skipinitialspace, skiprows, skipfooter, nrows, na_values, keep_default_na, na_filter, verbose, skip_blank_lines, parse_dates, infer_datetime_format, keep_date_col, date_parser, date_format, dayfirst, cache_dates, iterator, chunksize, compression, thousands, decimal, lineterminator, quotechar, quoting, doublequote, escapechar, comment, encoding, encoding_errors, dialect, on_bad_lines, delim_whitespace, low_memory, memory_map, float_precision, storage_options, dtype_backend)\u001b[0m\n\u001b[1;32m   1024\u001b[0m     \u001b[0mkwds\u001b[0m\u001b[0;34m.\u001b[0m\u001b[0mupdate\u001b[0m\u001b[0;34m(\u001b[0m\u001b[0mkwds_defaults\u001b[0m\u001b[0;34m)\u001b[0m\u001b[0;34m\u001b[0m\u001b[0;34m\u001b[0m\u001b[0m\n\u001b[1;32m   1025\u001b[0m \u001b[0;34m\u001b[0m\u001b[0m\n\u001b[0;32m-> 1026\u001b[0;31m     \u001b[0;32mreturn\u001b[0m \u001b[0m_read\u001b[0m\u001b[0;34m(\u001b[0m\u001b[0mfilepath_or_buffer\u001b[0m\u001b[0;34m,\u001b[0m \u001b[0mkwds\u001b[0m\u001b[0;34m)\u001b[0m\u001b[0;34m\u001b[0m\u001b[0;34m\u001b[0m\u001b[0m\n\u001b[0m\u001b[1;32m   1027\u001b[0m \u001b[0;34m\u001b[0m\u001b[0m\n\u001b[1;32m   1028\u001b[0m \u001b[0;34m\u001b[0m\u001b[0m\n",
            "\u001b[0;32m/usr/local/lib/python3.12/dist-packages/pandas/io/parsers/readers.py\u001b[0m in \u001b[0;36m_read\u001b[0;34m(filepath_or_buffer, kwds)\u001b[0m\n\u001b[1;32m    618\u001b[0m \u001b[0;34m\u001b[0m\u001b[0m\n\u001b[1;32m    619\u001b[0m     \u001b[0;31m# Create the parser.\u001b[0m\u001b[0;34m\u001b[0m\u001b[0;34m\u001b[0m\u001b[0m\n\u001b[0;32m--> 620\u001b[0;31m     \u001b[0mparser\u001b[0m \u001b[0;34m=\u001b[0m \u001b[0mTextFileReader\u001b[0m\u001b[0;34m(\u001b[0m\u001b[0mfilepath_or_buffer\u001b[0m\u001b[0;34m,\u001b[0m \u001b[0;34m**\u001b[0m\u001b[0mkwds\u001b[0m\u001b[0;34m)\u001b[0m\u001b[0;34m\u001b[0m\u001b[0;34m\u001b[0m\u001b[0m\n\u001b[0m\u001b[1;32m    621\u001b[0m \u001b[0;34m\u001b[0m\u001b[0m\n\u001b[1;32m    622\u001b[0m     \u001b[0;32mif\u001b[0m \u001b[0mchunksize\u001b[0m \u001b[0;32mor\u001b[0m \u001b[0miterator\u001b[0m\u001b[0;34m:\u001b[0m\u001b[0;34m\u001b[0m\u001b[0;34m\u001b[0m\u001b[0m\n",
            "\u001b[0;32m/usr/local/lib/python3.12/dist-packages/pandas/io/parsers/readers.py\u001b[0m in \u001b[0;36m__init__\u001b[0;34m(self, f, engine, **kwds)\u001b[0m\n\u001b[1;32m   1618\u001b[0m \u001b[0;34m\u001b[0m\u001b[0m\n\u001b[1;32m   1619\u001b[0m         \u001b[0mself\u001b[0m\u001b[0;34m.\u001b[0m\u001b[0mhandles\u001b[0m\u001b[0;34m:\u001b[0m \u001b[0mIOHandles\u001b[0m \u001b[0;34m|\u001b[0m \u001b[0;32mNone\u001b[0m \u001b[0;34m=\u001b[0m \u001b[0;32mNone\u001b[0m\u001b[0;34m\u001b[0m\u001b[0;34m\u001b[0m\u001b[0m\n\u001b[0;32m-> 1620\u001b[0;31m         \u001b[0mself\u001b[0m\u001b[0;34m.\u001b[0m\u001b[0m_engine\u001b[0m \u001b[0;34m=\u001b[0m \u001b[0mself\u001b[0m\u001b[0;34m.\u001b[0m\u001b[0m_make_engine\u001b[0m\u001b[0;34m(\u001b[0m\u001b[0mf\u001b[0m\u001b[0;34m,\u001b[0m \u001b[0mself\u001b[0m\u001b[0;34m.\u001b[0m\u001b[0mengine\u001b[0m\u001b[0;34m)\u001b[0m\u001b[0;34m\u001b[0m\u001b[0;34m\u001b[0m\u001b[0m\n\u001b[0m\u001b[1;32m   1621\u001b[0m \u001b[0;34m\u001b[0m\u001b[0m\n\u001b[1;32m   1622\u001b[0m     \u001b[0;32mdef\u001b[0m \u001b[0mclose\u001b[0m\u001b[0;34m(\u001b[0m\u001b[0mself\u001b[0m\u001b[0;34m)\u001b[0m \u001b[0;34m->\u001b[0m \u001b[0;32mNone\u001b[0m\u001b[0;34m:\u001b[0m\u001b[0;34m\u001b[0m\u001b[0;34m\u001b[0m\u001b[0m\n",
            "\u001b[0;32m/usr/local/lib/python3.12/dist-packages/pandas/io/parsers/readers.py\u001b[0m in \u001b[0;36m_make_engine\u001b[0;34m(self, f, engine)\u001b[0m\n\u001b[1;32m   1878\u001b[0m                 \u001b[0;32mif\u001b[0m \u001b[0;34m\"b\"\u001b[0m \u001b[0;32mnot\u001b[0m \u001b[0;32min\u001b[0m \u001b[0mmode\u001b[0m\u001b[0;34m:\u001b[0m\u001b[0;34m\u001b[0m\u001b[0;34m\u001b[0m\u001b[0m\n\u001b[1;32m   1879\u001b[0m                     \u001b[0mmode\u001b[0m \u001b[0;34m+=\u001b[0m \u001b[0;34m\"b\"\u001b[0m\u001b[0;34m\u001b[0m\u001b[0;34m\u001b[0m\u001b[0m\n\u001b[0;32m-> 1880\u001b[0;31m             self.handles = get_handle(\n\u001b[0m\u001b[1;32m   1881\u001b[0m                 \u001b[0mf\u001b[0m\u001b[0;34m,\u001b[0m\u001b[0;34m\u001b[0m\u001b[0;34m\u001b[0m\u001b[0m\n\u001b[1;32m   1882\u001b[0m                 \u001b[0mmode\u001b[0m\u001b[0;34m,\u001b[0m\u001b[0;34m\u001b[0m\u001b[0;34m\u001b[0m\u001b[0m\n",
            "\u001b[0;32m/usr/local/lib/python3.12/dist-packages/pandas/io/common.py\u001b[0m in \u001b[0;36mget_handle\u001b[0;34m(path_or_buf, mode, encoding, compression, memory_map, is_text, errors, storage_options)\u001b[0m\n\u001b[1;32m    871\u001b[0m         \u001b[0;32mif\u001b[0m \u001b[0mioargs\u001b[0m\u001b[0;34m.\u001b[0m\u001b[0mencoding\u001b[0m \u001b[0;32mand\u001b[0m \u001b[0;34m\"b\"\u001b[0m \u001b[0;32mnot\u001b[0m \u001b[0;32min\u001b[0m \u001b[0mioargs\u001b[0m\u001b[0;34m.\u001b[0m\u001b[0mmode\u001b[0m\u001b[0;34m:\u001b[0m\u001b[0;34m\u001b[0m\u001b[0;34m\u001b[0m\u001b[0m\n\u001b[1;32m    872\u001b[0m             \u001b[0;31m# Encoding\u001b[0m\u001b[0;34m\u001b[0m\u001b[0;34m\u001b[0m\u001b[0m\n\u001b[0;32m--> 873\u001b[0;31m             handle = open(\n\u001b[0m\u001b[1;32m    874\u001b[0m                 \u001b[0mhandle\u001b[0m\u001b[0;34m,\u001b[0m\u001b[0;34m\u001b[0m\u001b[0;34m\u001b[0m\u001b[0m\n\u001b[1;32m    875\u001b[0m                 \u001b[0mioargs\u001b[0m\u001b[0;34m.\u001b[0m\u001b[0mmode\u001b[0m\u001b[0;34m,\u001b[0m\u001b[0;34m\u001b[0m\u001b[0;34m\u001b[0m\u001b[0m\n",
            "\u001b[0;31mFileNotFoundError\u001b[0m: [Errno 2] No such file or directory: 'marketing_campaign.csv'"
          ]
        }
      ],
      "source": [
        "import pandas as pd\n",
        "df = pd.read_csv(\"marketing_campaign.csv\", sep=\"\\t\")\n",
        "print(\"Kích thước:\", df.shape)\n",
        "df.head()"
      ]
    },
    {
      "cell_type": "markdown",
      "metadata": {
        "id": "589edaf8"
      },
      "source": [
        "####2. Khởi tạo báo cáo SweetViz"
      ]
    },
    {
      "cell_type": "code",
      "execution_count": null,
      "metadata": {
        "colab": {
          "background_save": true
        },
        "id": "3xhLzx3pehkM"
      },
      "outputs": [],
      "source": [
        "import sweetviz as sv\n",
        "\n",
        "report = sv.analyze(df, target_feat=\"Response\")\n",
        "report.show_html(\"sweetviz_overview.html\")"
      ]
    },
    {
      "cell_type": "markdown",
      "metadata": {
        "id": "51296571"
      },
      "source": [
        "[link text](https://)####3. Quan sát kết quả"
      ]
    },
    {
      "cell_type": "code",
      "execution_count": null,
      "metadata": {
        "id": "f31d286c"
      },
      "outputs": [],
      "source": [
        "cmp_resp = sv.compare_intra(\n",
        "    df, df[\"Response\"] == 1,\n",
        "    [\"Responders (1)\", \"Non-responders (0)\"],\n",
        "    target_feat=\"Response\"\n",
        ")\n",
        "cmp_resp.show_html(\"sweetviz_compare_response.html\")"
      ]
    },
    {
      "cell_type": "code",
      "execution_count": null,
      "metadata": {
        "colab": {
          "background_save": true
        },
        "id": "mxRfCSLvjLYy"
      },
      "outputs": [],
      "source": [
        "from IPython.display import display, HTML\n",
        "\n",
        "with open(\"sweetviz_overview.html\", \"r\", encoding=\"utf-8\") as f:\n",
        "    report_html = f.read()\n",
        "\n",
        "display(HTML(report_html))"
      ]
    },
    {
      "cell_type": "markdown",
      "metadata": {
        "id": "T9fC6Y0Fn8pU"
      },
      "source": [
        "#### 2.1. Báo cáo tổng quan (sweetviz_overview.html)\n",
        "- Dataset có 2240 dòng, 29 biến.\n",
        "- Cột **Income** có ~1% missing values, phân phối lệch phải, xuất hiện nhiều outliers.\n",
        "- **Year_Birth**: phần lớn khách hàng sinh 1950–1980, có vài giá trị bất thường (ví dụ 1893).\n",
        "- **Education**: nhiều nhất là nhóm Graduation, kế đến PhD; ít khách ở nhóm Basic.\n",
        "- **Marital_Status**: phần lớn là Married hoặc Together.\n",
        "- **Chi tiêu (MntWines, MntMeatProducts, …)**: lệch phải, nhiều khách chi tiêu rất thấp, một số chi tiêu cực cao.\n",
        "- **Recency**: trải đều từ 0 đến 99 ngày, một số khách lâu không mua hàng → outlier.\n",
        "- **Response**: mất cân bằng, chỉ ~15% khách hàng phản hồi."
      ]
    },
    {
      "cell_type": "code",
      "execution_count": null,
      "metadata": {
        "colab": {
          "background_save": true
        },
        "id": "fh9IPUpqndaT"
      },
      "outputs": [],
      "source": [
        "from IPython.display import display, HTML\n",
        "\n",
        "with open(\"sweetviz_compare_response.html\", \"r\", encoding=\"utf-8\") as f:\n",
        "    report_html = f.read()\n",
        "\n",
        "display(HTML(report_html))"
      ]
    },
    {
      "cell_type": "markdown",
      "metadata": {
        "id": "LdRq9aeLoBZ8"
      },
      "source": [
        "#### 2.2 Báo cáo so sánh nhóm (sweetviz_compare_response.html)\n",
        "- **Thu nhập (Income):** Nhóm Responders có thu nhập trung bình cao hơn Non-responders.\n",
        "- **Chi tiêu:** Responders chi tiêu nhiều hơn, đặc biệt là rượu vang và thịt.\n",
        "- **Recency:** Responders có Recency thấp hơn (mới mua hàng gần đây).\n",
        "- **NumWebVisitsMonth:** Non-responders có xu hướng truy cập web nhiều nhưng ít mua hàng; Responders ngược lại.\n",
        "- **AcceptedCmp (các chiến dịch trước):** Responders có tỷ lệ chấp nhận chiến dịch trước cao hơn Non-responders.\n",
        "- **Complain:** Tỷ lệ phàn nàn không khác biệt nhiều giữa 2 nhóm."
      ]
    },
    {
      "cell_type": "markdown",
      "metadata": {
        "id": "32K4L62kgFhQ"
      },
      "source": [
        "### 3. Nhận xét chung\n",
        "- Nhóm **Responders** thường có đặc điểm: thu nhập cao hơn, chi tiêu nhiều hơn, mua gần đây hơn, và có lịch sử phản hồi chiến dịch tốt hơn.\n",
        "- Nhóm **Non-responders**: thu nhập/chi tiêu thấp hơn, Recency cao hơn (xa lần mua gần nhất), nhiều người chỉ ghé web nhưng không mua.\n",
        "- **Ý nghĩa:** Doanh nghiệp nên tập trung marketing vào nhóm khách hàng có thu nhập cao, chi tiêu cao, Recency thấp, và có hành vi mua tích cực trong quá khứ."
      ]
    },
    {
      "cell_type": "markdown",
      "metadata": {
        "id": "vGW1oH6ZCi2D"
      },
      "source": [
        "##1.3.4. Bài tập thực hành 2\n",
        "Tìm hiểu các tính năng và cách sử dụng sản phẩm AutoViz (https://pypi.org/project/autoviz) áp dụng trên\n",
        "tập dữ liệu Marketing Campaign"
      ]
    },
    {
      "cell_type": "markdown",
      "metadata": {
        "id": "ctMXT2o6CsCb"
      },
      "source": [
        "####1. Import thư viện và nạp dữ liệu"
      ]
    },
    {
      "cell_type": "code",
      "execution_count": null,
      "metadata": {
        "id": "7EvrJNwTCwd8"
      },
      "outputs": [],
      "source": [
        "!pip install autoviz -q\n",
        "from autoviz.AutoViz_Class import AutoViz_Class\n",
        "AV = AutoViz_Class()"
      ]
    },
    {
      "cell_type": "markdown",
      "metadata": {
        "id": "5kw0MsfhCwv7"
      },
      "source": [
        "####2. Khởi tạo báo cáo AutoViz"
      ]
    },
    {
      "cell_type": "code",
      "execution_count": null,
      "metadata": {
        "id": "EtSIfdCqDHt8"
      },
      "outputs": [],
      "source": [
        "report = AV.AutoViz(\n",
        "    filename=\"\",\n",
        "    dfte=df,\n",
        "    depVar=\"Response\",\n",
        "    verbose=2,\n",
        "    chart_format=\"png\",\n",
        "    save_plot_dir=\"autoviz_report\"\n",
        ")"
      ]
    },
    {
      "cell_type": "markdown",
      "metadata": {
        "id": "Ge-BOn6ADH40"
      },
      "source": [
        "####3. Quan sát kết quả"
      ]
    },
    {
      "cell_type": "code",
      "execution_count": null,
      "metadata": {
        "id": "suJuJ8kbpy7I"
      },
      "outputs": [],
      "source": [
        "import os\n",
        "!ls -R autoviz_report"
      ]
    },
    {
      "cell_type": "code",
      "execution_count": null,
      "metadata": {
        "id": "vFIEG8CYhEiQ"
      },
      "outputs": [],
      "source": [
        "import os\n",
        "from IPython.display import Image, display\n",
        "\n",
        "# Đọc trong thư mục con 'Response'\n",
        "pngs = [f for f in os.listdir(\"autoviz_report/Response\") if f.endswith(\".png\")]\n",
        "print(\"Tổng số hình vẽ:\", len(pngs))\n",
        "\n",
        "for f in sorted(pngs):\n",
        "    display(Image(filename=f\"autoviz_report/Response/{f}\"))"
      ]
    },
    {
      "cell_type": "markdown",
      "metadata": {
        "id": "KoAWNVcaFKy7"
      },
      "source": [
        "####4. Nhận xét"
      ]
    },
    {
      "cell_type": "markdown",
      "metadata": {
        "id": "I3vv6SWdqjXK"
      },
      "source": [
        "\n",
        "### Nhận xét từ AutoViz\n",
        "\n",
        "- **Histogram:** Income, TotalSpending, Recency đều lệch phải. Có nhiều khách hàng thu nhập thấp/chi tiêu thấp, một số outliers thu nhập và chi tiêu cực cao.  \n",
        "- **Boxplot/Violin plot:** Income và TotalSpending có rất nhiều outliers; việc clip hoặc log-transform là cần thiết trước khi modeling.  \n",
        "- **Scatter plot:** Có mối quan hệ tuyến tính rõ ràng giữa Income và TotalSpending. Một số khách hàng Income cao nhưng chi tiêu thấp → nhóm đặc biệt cần phân tích riêng.  \n",
        "- **Heatmap tương quan:** Các biến chi tiêu (MntWines, MntMeatProducts, MntFruits, …) tương quan chặt với nhau và với TotalSpending.  \n",
        "- **Biến mục tiêu Response:** Khách hàng có Response=1 thường có Income và TotalSpending cao hơn, Recency thấp hơn (vừa mua gần đây).  \n",
        "- **Nhóm hành vi mua:** NumWebVisitsMonth và NumStorePurchases có xu hướng ngược nhau (khách vào web nhiều thì ít mua tại cửa hàng).  \n",
        "\n",
        "**Ý nghĩa:** AutoViz trực quan hóa toàn diện, giúp phát hiện missing values, outliers, phân phối dữ liệu và mối quan hệ quan trọng. Đây là cơ sở để tiền xử lý (fill NA, clip/log outliers, chuẩn hoá, one-hot) và chọn đặc trưng cho mô hình phân loại Response.\n",
        "\n"
      ]
    }
  ],
  "metadata": {
    "colab": {
      "provenance": []
    },
    "kernelspec": {
      "display_name": "Python 3",
      "name": "python3"
    },
    "language_info": {
      "name": "python"
    }
  },
  "nbformat": 4,
  "nbformat_minor": 0
}